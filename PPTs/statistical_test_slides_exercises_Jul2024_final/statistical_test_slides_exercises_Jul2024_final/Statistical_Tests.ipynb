{
 "cells": [
  {
   "cell_type": "markdown",
   "id": "2b8f7608-88fe-4831-bf2a-1ae214d80d27",
   "metadata": {
    "slideshow": {
     "slide_type": "slide"
    },
    "tags": []
   },
   "source": [
    "# Introduction To Statistical Tests\n",
    "\n",
    "\n",
    "## Credits: Deebul Nair\n",
    "\n",
    "## Prof. Dr. Teena Hasan\n",
    "teena.hassan@h-brs.de\n",
    "\n",
    "\n",
    "### Hochschule Bonn-Rhein-Sieg\n",
    "#### Human-Centered Interaction in Robotics \n"
   ]
  },
  {
   "cell_type": "code",
   "execution_count": 1,
   "id": "9390bad5",
   "metadata": {
    "slideshow": {
     "slide_type": "skip"
    },
    "tags": []
   },
   "outputs": [],
   "source": [
    "import pandas as pd\n",
    "import numpy as np\n",
    "import seaborn as sns\n",
    "import scipy.stats as stats\n",
    "import matplotlib.pyplot as plt"
   ]
  },
  {
   "cell_type": "markdown",
   "id": "3442cd1b",
   "metadata": {
    "jp-MarkdownHeadingCollapsed": true,
    "slideshow": {
     "slide_type": "slide"
    },
    "tags": []
   },
   "source": [
    "# At the end of today’s lecture, you will be able to:\n",
    "\n",
    "* Explain what is meant by a statistical test.\n",
    "* Select appropriate statistical tests based on hypotheses and experiment design.\n",
    "* Report results of statistical tests appropriately. "
   ]
  },
  {
   "cell_type": "markdown",
   "id": "9bb5cada",
   "metadata": {
    "slideshow": {
     "slide_type": "slide"
    },
    "tags": []
   },
   "source": [
    "# Null Hypothesis Statistical Testing (NHST)?\n",
    "\n",
    "\n",
    "<img src=\"stages_of_empirial_research.png\" alt=\"drawing\" width=\"1000\"/>"
   ]
  },
  {
   "cell_type": "markdown",
   "id": "a89a4ebd-f7e2-4947-ae84-e313b93232a1",
   "metadata": {
    "slideshow": {
     "slide_type": "slide"
    },
    "tags": []
   },
   "source": [
    "# Statistical Test \n",
    "\n",
    "<img src=\"https://onishlab.colostate.edu/wp-content/uploads/2019/07/which_test_flowchart.png\" alt=\"drawing\" width=\"1400\"/>\n",
    "\n",
    "Image source [1](https://onishlab.colostate.edu/wp-content/uploads/2019/07/which_test_flowchart.png)"
   ]
  },
  {
   "cell_type": "markdown",
   "id": "4dad323f-844f-4633-a1b7-4812929a6067",
   "metadata": {
    "slideshow": {
     "slide_type": "subslide"
    },
    "tags": []
   },
   "source": [
    "<img src=\"statistical_test_selection.jpeg\" alt=\"drawing\" width=\"500\" />\n"
   ]
  },
  {
   "cell_type": "markdown",
   "id": "df47be07-5723-4802-8e4f-3c7b3d07d2c5",
   "metadata": {
    "slideshow": {
     "slide_type": "slide"
    },
    "tags": []
   },
   "source": [
    "# What is a Hypothesis?\n",
    "\n",
    "\n",
    "<img src=\"stages_of_empirial_research.png\" alt=\"drawing\" width=\"1000\"/>"
   ]
  },
  {
   "cell_type": "markdown",
   "id": "e652cb38",
   "metadata": {
    "slideshow": {
     "slide_type": "subslide"
    },
    "tags": []
   },
   "source": [
    "# What is a Hypothesis?\n",
    "\n",
    "* States a testable prediction or relationship based on the research question.\n",
    "\n"
   ]
  },
  {
   "cell_type": "markdown",
   "id": "c8f065d7-cb0a-4a5c-bb18-70e79c8d04ba",
   "metadata": {
    "slideshow": {
     "slide_type": "fragment"
    },
    "tags": []
   },
   "source": [
    "\n",
    "\n",
    "* Simply put, a hypothesis is a statement which makes a prediction about something which is not proven. It is a kind of educated guess\n"
   ]
  },
  {
   "cell_type": "markdown",
   "id": "1483c400-2f0a-48e1-80b0-272cb3908aa7",
   "metadata": {
    "slideshow": {
     "slide_type": "fragment"
    },
    "tags": []
   },
   "source": [
    "* You need a hypothesis when you want to prove something through experimentation."
   ]
  },
  {
   "cell_type": "markdown",
   "id": "51a02aaf-2abc-470c-ad39-09fad9513f2c",
   "metadata": {
    "slideshow": {
     "slide_type": "subslide"
    },
    "tags": []
   },
   "source": [
    "\n",
    "## What is Null Hypothesis?\n",
    "\n",
    "* The null hypothesis is a statement that suggests there is no significant difference, effect, or relationship between the variables being studied.\n",
    "* Used for testing to assess whether any observed results are due to chance or randomness.\n",
    "* They simply propose the absence of a significant effect or relationship.\n",
    "* The formulation depends on the research question and the specific hypothesis being tested.\n",
    "* It might involve words like \"no difference,\" \"no effect,\" and \"no association\". \n"
   ]
  },
  {
   "cell_type": "markdown",
   "id": "5c49e50a-cb94-41fd-a4e6-b73299db10b8",
   "metadata": {
    "slideshow": {
     "slide_type": "slide"
    },
    "tags": []
   },
   "source": [
    "# Examples : Research Question, Hypothesis and Null Hypothesis\n"
   ]
  },
  {
   "cell_type": "markdown",
   "id": "5aeef033-5f98-4a4c-a859-af2f87cd7c58",
   "metadata": {
    "slideshow": {
     "slide_type": "subslide"
    },
    "tags": []
   },
   "source": [
    "\n",
    "## 1\n",
    "Research Question: \"How does interface design affect user engagement in mobile applications?\"\n",
    "\n",
    "Hypothesis : \"Interactive interface design increases user engagement in mobile applications compared to non-interactive design.\"\n",
    "\n",
    "Null Hypothesis : \"There is no significant impact of interface design on user engagement in mobile applications compared to non-interactive design.\""
   ]
  },
  {
   "cell_type": "markdown",
   "id": "c76974a3-521f-4715-975a-fdd9389fcfeb",
   "metadata": {
    "slideshow": {
     "slide_type": "subslide"
    },
    "tags": []
   },
   "source": [
    "## 2\n",
    "\n",
    "Research Question : \"How does the color scheme of a robot menu impact user satisfaction and engagement?\"\n",
    "\n",
    "Hypothesis : \"A visually appealing color scheme enhances both user satisfaction and engagement with the robot compared to a greyscale color scheme.\"\n",
    "\n",
    "Null Hypothesis : \"There is no significant relationship between the color scheme of the robot menu and user satisfaction or engagement.\""
   ]
  },
  {
   "cell_type": "markdown",
   "id": "2334341d-c122-4d2a-8cc8-c5d607996f79",
   "metadata": {
    "slideshow": {
     "slide_type": "subslide"
    },
    "tags": []
   },
   "source": [
    "## 3 \n",
    "\n",
    "Research Question : \"How do different notification systems influence user attention in robot interfaces?\"\n",
    "\n",
    "Hypothesis : \"A proactive notification system captures more user attention than a passive one.\"\n",
    "\n",
    "Null Hypothesis : \"There is no significant difference in user attention between proactive and passive notification systems.\""
   ]
  },
  {
   "cell_type": "markdown",
   "id": "0beaa2b5",
   "metadata": {
    "slideshow": {
     "slide_type": "slide"
    },
    "tags": []
   },
   "source": [
    "# Task 1\n",
    "\n",
    "\n",
    "* Write one hypothesis of you RnD/Thesis or a paper you have read .\n",
    "\n",
    "* Discussion "
   ]
  },
  {
   "cell_type": "markdown",
   "id": "8d23d19f",
   "metadata": {
    "slideshow": {
     "slide_type": "slide"
    },
    "tags": []
   },
   "source": [
    "# Data Collection\n",
    "<img src=\"stages_of_empirial_research.png\" alt=\"drawing\" width=\"1000\"/>"
   ]
  },
  {
   "cell_type": "markdown",
   "id": "eb751852",
   "metadata": {
    "slideshow": {
     "slide_type": "slide"
    },
    "tags": []
   },
   "source": [
    "## Experiment 1 : Weight Gain\n",
    "\n",
    "\n",
    "### References:\n",
    "\n",
    "* Moore, D. S., McCabe, G. P., and Craig, B. A. (2012). Introduction to the Practice of Statistics (7th ed.). New York: Freeman.\n",
    "* Levine, J. A., Eberhardt, N. L., and Jensen, M. D. (1999) Role of nonexcercise activity thermogenesis in resistance to fat gain in humans. Science, 283:212-214.\n"
   ]
  },
  {
   "cell_type": "markdown",
   "id": "919c4664",
   "metadata": {
    "slideshow": {
     "slide_type": "fragment"
    }
   },
   "source": [
    "\n",
    "### Description:  \n",
    "\"Weight Gain\", provides weights of 16 participants before and after an eight-week period of excessive calorie intake (Moore et al., 2012, p. 425). \n",
    "\n",
    "### Hypothesis: \n",
    "We will test the hypothesis that 1000 excess calorie intake per day over 8 weeks results in 16 pounds (approximately 7.2 kilograms) weight increase. \n",
    "\n",
    "### Null Hypothesis:\n",
    "\n"
   ]
  },
  {
   "cell_type": "markdown",
   "id": "d8788c4f",
   "metadata": {
    "slideshow": {
     "slide_type": "fragment"
    }
   },
   "source": [
    "### Variables:\n",
    "\n",
    "    Weight Before: Weight in pounds (lb) measured before eight weeks of excessive calorie intake.\n",
    "    Weight After: Weight in pounds (lb) measured after eight weeks of excessive calorie intake.\n",
    "    Difference: Weight After - Weight Before.\n",
    "\n"
   ]
  },
  {
   "cell_type": "code",
   "execution_count": 2,
   "id": "60c71a15",
   "metadata": {
    "slideshow": {
     "slide_type": "subslide"
    }
   },
   "outputs": [
    {
     "data": {
      "text/html": [
       "<div>\n",
       "<style scoped>\n",
       "    .dataframe tbody tr th:only-of-type {\n",
       "        vertical-align: middle;\n",
       "    }\n",
       "\n",
       "    .dataframe tbody tr th {\n",
       "        vertical-align: top;\n",
       "    }\n",
       "\n",
       "    .dataframe thead th {\n",
       "        text-align: right;\n",
       "    }\n",
       "</style>\n",
       "<table border=\"1\" class=\"dataframe\">\n",
       "  <thead>\n",
       "    <tr style=\"text-align: right;\">\n",
       "      <th></th>\n",
       "      <th>Weight Before</th>\n",
       "      <th>Weight After</th>\n",
       "      <th>Difference</th>\n",
       "    </tr>\n",
       "  </thead>\n",
       "  <tbody>\n",
       "    <tr>\n",
       "      <th>0</th>\n",
       "      <td>122.54</td>\n",
       "      <td>135.74</td>\n",
       "      <td>13.20</td>\n",
       "    </tr>\n",
       "    <tr>\n",
       "      <th>1</th>\n",
       "      <td>120.78</td>\n",
       "      <td>129.36</td>\n",
       "      <td>8.58</td>\n",
       "    </tr>\n",
       "    <tr>\n",
       "      <th>2</th>\n",
       "      <td>131.12</td>\n",
       "      <td>145.20</td>\n",
       "      <td>14.08</td>\n",
       "    </tr>\n",
       "    <tr>\n",
       "      <th>3</th>\n",
       "      <td>137.06</td>\n",
       "      <td>145.64</td>\n",
       "      <td>8.58</td>\n",
       "    </tr>\n",
       "    <tr>\n",
       "      <th>4</th>\n",
       "      <td>163.24</td>\n",
       "      <td>173.80</td>\n",
       "      <td>10.56</td>\n",
       "    </tr>\n",
       "  </tbody>\n",
       "</table>\n",
       "</div>"
      ],
      "text/plain": [
       "   Weight Before  Weight After  Difference\n",
       "0         122.54        135.74       13.20\n",
       "1         120.78        129.36        8.58\n",
       "2         131.12        145.20       14.08\n",
       "3         137.06        145.64        8.58\n",
       "4         163.24        173.80       10.56"
      ]
     },
     "execution_count": 2,
     "metadata": {},
     "output_type": "execute_result"
    }
   ],
   "source": [
    "weight_gain_data = pd.read_csv('https://raw.githubusercontent.com/jasp-stats/jasp-desktop/4527546659fdbd0849261f22ec84e9db76adc49d/Resources/Data%20Sets/Data%20Library/2.%20T-Tests/Weight%20Gain.csv')\n",
    "weight_gain_data.head()"
   ]
  },
  {
   "cell_type": "markdown",
   "id": "105a9e7f",
   "metadata": {
    "slideshow": {
     "slide_type": "slide"
    }
   },
   "source": [
    "# Experiment 2 : Response to Color\n",
    "\n",
    "## Description:\n",
    "\n",
    "\"Response to Eye Color\", provides post-advertisement attitudes towards a brand expressed by four different groups - each group saw the same advertisement except for the aspect that was manipulated: the color of the packaging.\n",
    "\n",
    "## Hypothesis:\n",
    "The attitudes are different towards different colors of the packaging.\n",
    "\n",
    "## Null Hypothesis\n",
    "\n",
    "The attitudes are the same regardless of the color of the packaging.\n"
   ]
  },
  {
   "cell_type": "markdown",
   "id": "42253cc7",
   "metadata": {
    "slideshow": {
     "slide_type": "fragment"
    }
   },
   "source": [
    "\n",
    "## Variables:\n",
    "\n",
    "    Group: Experimental conditions (`Blue', `Brown', `Green').\n",
    "    Subj: Participant number.\n",
    "    Score: An average of 10 survey questions about attitudes towards the brand (7-point Likert scale). Higher averages correspond to more positive attitudes.\n",
    "\n"
   ]
  },
  {
   "cell_type": "markdown",
   "id": "6caa30f4",
   "metadata": {
    "slideshow": {
     "slide_type": "subslide"
    }
   },
   "source": [
    "## Data "
   ]
  },
  {
   "cell_type": "code",
   "execution_count": 7,
   "id": "96634602",
   "metadata": {
    "slideshow": {
     "slide_type": "fragment"
    }
   },
   "outputs": [
    {
     "data": {
      "text/html": [
       "<div>\n",
       "<style scoped>\n",
       "    .dataframe tbody tr th:only-of-type {\n",
       "        vertical-align: middle;\n",
       "    }\n",
       "\n",
       "    .dataframe tbody tr th {\n",
       "        vertical-align: top;\n",
       "    }\n",
       "\n",
       "    .dataframe thead th {\n",
       "        text-align: right;\n",
       "    }\n",
       "</style>\n",
       "<table border=\"1\" class=\"dataframe\">\n",
       "  <thead>\n",
       "    <tr style=\"text-align: right;\">\n",
       "      <th></th>\n",
       "      <th>Group</th>\n",
       "      <th>Subj</th>\n",
       "      <th>Score</th>\n",
       "    </tr>\n",
       "  </thead>\n",
       "  <tbody>\n",
       "    <tr>\n",
       "      <th>0</th>\n",
       "      <td>Blue</td>\n",
       "      <td>1</td>\n",
       "      <td>1.3</td>\n",
       "    </tr>\n",
       "    <tr>\n",
       "      <th>1</th>\n",
       "      <td>Blue</td>\n",
       "      <td>2</td>\n",
       "      <td>1.0</td>\n",
       "    </tr>\n",
       "    <tr>\n",
       "      <th>2</th>\n",
       "      <td>Blue</td>\n",
       "      <td>3</td>\n",
       "      <td>7.0</td>\n",
       "    </tr>\n",
       "    <tr>\n",
       "      <th>3</th>\n",
       "      <td>Blue</td>\n",
       "      <td>4</td>\n",
       "      <td>4.2</td>\n",
       "    </tr>\n",
       "    <tr>\n",
       "      <th>4</th>\n",
       "      <td>Blue</td>\n",
       "      <td>5</td>\n",
       "      <td>5.4</td>\n",
       "    </tr>\n",
       "  </tbody>\n",
       "</table>\n",
       "</div>"
      ],
      "text/plain": [
       "  Group  Subj  Score\n",
       "0  Blue     1    1.3\n",
       "1  Blue     2    1.0\n",
       "2  Blue     3    7.0\n",
       "3  Blue     4    4.2\n",
       "4  Blue     5    5.4"
      ]
     },
     "execution_count": 7,
     "metadata": {},
     "output_type": "execute_result"
    }
   ],
   "source": [
    "eye_color_data = pd.read_csv('https://raw.githubusercontent.com/jasp-stats/jasp-desktop/4527546659fdbd0849261f22ec84e9db76adc49d/Resources/Data%20Sets/Data%20Library/3.%20ANOVA/Response%20to%20Eye%20Color.csv')\n",
    "eye_color_data.head()"
   ]
  },
  {
   "cell_type": "markdown",
   "id": "8b03d31f",
   "metadata": {
    "slideshow": {
     "slide_type": "fragment"
    }
   },
   "source": [
    "\n",
    "## References:\n",
    "\n",
    "Moore, D. S., McCabe, G. P., and Craig, B. A. (2012). Introduction to the Practice of Statistics (7th ed.). New York: Freeman.\n",
    "\n",
    "Simpson, P. M., Sturges, D. L., and Tanguma, J. (2008). The eyes have it, or do they? The effects of model eye color and eye gaze on consumer as response. The Journal of Applied Business and Economics, 8: 60-72."
   ]
  },
  {
   "cell_type": "markdown",
   "id": "03dac8c2",
   "metadata": {
    "slideshow": {
     "slide_type": "slide"
    }
   },
   "source": [
    "# Experiment 3 : Brain Size and Intelligence\n",
    "\n",
    "## Reference\n",
    "\n",
    "Willerman L, Schultz R, Rutledge JN, Bigler ED. In vivo brain size and intelligence. Intelligence. 1991 Apr 1;15(2):223-8."
   ]
  },
  {
   "cell_type": "markdown",
   "id": "473c9cc6",
   "metadata": {
    "slideshow": {
     "slide_type": "fragment"
    }
   },
   "source": [
    "## Description\n",
    "\n",
    "In this study by Willerman et al. (1991) the researchers use Magnetic Resonance Imaging (MRI) to determine the brain size of the subjects. \n",
    "The researchers take into account gender and body size to draw conclusions about the connection between brain size and intelligence.\n",
    "\n",
    "## Hypothesis\n",
    "\n",
    "The size and weight of your brain  are indicators of your mental capacity.\n",
    "\n",
    "## Null Hypothesis"
   ]
  },
  {
   "cell_type": "markdown",
   "id": "c026f24a",
   "metadata": {
    "slideshow": {
     "slide_type": "fragment"
    }
   },
   "source": [
    "## Variable Names:\n",
    "\n",
    "1. Gender: Male or Female\n",
    "2. FSIQ: Full Scale IQ scores based on the four Wechsler (1981) subtests\n",
    "3. VIQ: Verbal IQ scores based on the four Wechsler (1981) subtests\n",
    "4. PIQ: Performance IQ scores based on the four Wechsler (1981) subtests\n",
    "5. Weight: body weight in pounds\n",
    "6. Height: height in inches\n",
    "7. MRI_Count: total pixel Count from the 18 MRI scans"
   ]
  },
  {
   "cell_type": "code",
   "execution_count": 4,
   "id": "4fe49426",
   "metadata": {
    "slideshow": {
     "slide_type": "subslide"
    }
   },
   "outputs": [
    {
     "data": {
      "text/html": [
       "<div>\n",
       "<style scoped>\n",
       "    .dataframe tbody tr th:only-of-type {\n",
       "        vertical-align: middle;\n",
       "    }\n",
       "\n",
       "    .dataframe tbody tr th {\n",
       "        vertical-align: top;\n",
       "    }\n",
       "\n",
       "    .dataframe thead th {\n",
       "        text-align: right;\n",
       "    }\n",
       "</style>\n",
       "<table border=\"1\" class=\"dataframe\">\n",
       "  <thead>\n",
       "    <tr style=\"text-align: right;\">\n",
       "      <th></th>\n",
       "      <th>Unnamed: 0</th>\n",
       "      <th>Gender</th>\n",
       "      <th>FSIQ</th>\n",
       "      <th>VIQ</th>\n",
       "      <th>PIQ</th>\n",
       "      <th>Weight</th>\n",
       "      <th>Height</th>\n",
       "      <th>MRI_Count</th>\n",
       "    </tr>\n",
       "  </thead>\n",
       "  <tbody>\n",
       "    <tr>\n",
       "      <th>0</th>\n",
       "      <td>1</td>\n",
       "      <td>Female</td>\n",
       "      <td>133</td>\n",
       "      <td>132</td>\n",
       "      <td>124</td>\n",
       "      <td>118.0</td>\n",
       "      <td>64.5</td>\n",
       "      <td>816932</td>\n",
       "    </tr>\n",
       "    <tr>\n",
       "      <th>1</th>\n",
       "      <td>2</td>\n",
       "      <td>Male</td>\n",
       "      <td>140</td>\n",
       "      <td>150</td>\n",
       "      <td>124</td>\n",
       "      <td>NaN</td>\n",
       "      <td>72.5</td>\n",
       "      <td>1001121</td>\n",
       "    </tr>\n",
       "    <tr>\n",
       "      <th>2</th>\n",
       "      <td>3</td>\n",
       "      <td>Male</td>\n",
       "      <td>139</td>\n",
       "      <td>123</td>\n",
       "      <td>150</td>\n",
       "      <td>143.0</td>\n",
       "      <td>73.3</td>\n",
       "      <td>1038437</td>\n",
       "    </tr>\n",
       "    <tr>\n",
       "      <th>3</th>\n",
       "      <td>4</td>\n",
       "      <td>Male</td>\n",
       "      <td>133</td>\n",
       "      <td>129</td>\n",
       "      <td>128</td>\n",
       "      <td>172.0</td>\n",
       "      <td>68.8</td>\n",
       "      <td>965353</td>\n",
       "    </tr>\n",
       "    <tr>\n",
       "      <th>4</th>\n",
       "      <td>5</td>\n",
       "      <td>Female</td>\n",
       "      <td>137</td>\n",
       "      <td>132</td>\n",
       "      <td>134</td>\n",
       "      <td>147.0</td>\n",
       "      <td>65.0</td>\n",
       "      <td>951545</td>\n",
       "    </tr>\n",
       "  </tbody>\n",
       "</table>\n",
       "</div>"
      ],
      "text/plain": [
       "   Unnamed: 0  Gender  FSIQ  VIQ  PIQ  Weight  Height  MRI_Count\n",
       "0           1  Female   133  132  124   118.0    64.5     816932\n",
       "1           2    Male   140  150  124     NaN    72.5    1001121\n",
       "2           3    Male   139  123  150   143.0    73.3    1038437\n",
       "3           4    Male   133  129  128   172.0    68.8     965353\n",
       "4           5  Female   137  132  134   147.0    65.0     951545"
      ]
     },
     "execution_count": 4,
     "metadata": {},
     "output_type": "execute_result"
    }
   ],
   "source": [
    "brain_data = pd.read_csv('https://scipy-lectures.org/_downloads/brain_size.csv', sep=';', na_values=\".\")\n",
    "brain_data.head()"
   ]
  },
  {
   "cell_type": "markdown",
   "id": "3e4b7855",
   "metadata": {
    "slideshow": {
     "slide_type": "slide"
    },
    "tags": []
   },
   "source": [
    "# Descriptive Statistics\n",
    "\n",
    "* counts\n",
    "* mean\n",
    "* median\n",
    "* max \n",
    "* min\n",
    "* ....\n",
    "\n"
   ]
  },
  {
   "cell_type": "markdown",
   "id": "2ede8916",
   "metadata": {
    "slideshow": {
     "slide_type": "slide"
    }
   },
   "source": [
    "![](./descriptive_statistics_metrics.png)"
   ]
  },
  {
   "cell_type": "code",
   "execution_count": 5,
   "id": "a8705416",
   "metadata": {
    "slideshow": {
     "slide_type": "subslide"
    }
   },
   "outputs": [
    {
     "data": {
      "text/html": [
       "<div>\n",
       "<style scoped>\n",
       "    .dataframe tbody tr th:only-of-type {\n",
       "        vertical-align: middle;\n",
       "    }\n",
       "\n",
       "    .dataframe tbody tr th {\n",
       "        vertical-align: top;\n",
       "    }\n",
       "\n",
       "    .dataframe thead th {\n",
       "        text-align: right;\n",
       "    }\n",
       "</style>\n",
       "<table border=\"1\" class=\"dataframe\">\n",
       "  <thead>\n",
       "    <tr style=\"text-align: right;\">\n",
       "      <th></th>\n",
       "      <th>Unnamed: 0</th>\n",
       "      <th>FSIQ</th>\n",
       "      <th>VIQ</th>\n",
       "      <th>PIQ</th>\n",
       "      <th>Weight</th>\n",
       "      <th>Height</th>\n",
       "      <th>MRI_Count</th>\n",
       "    </tr>\n",
       "  </thead>\n",
       "  <tbody>\n",
       "    <tr>\n",
       "      <th>count</th>\n",
       "      <td>40.000000</td>\n",
       "      <td>40.000000</td>\n",
       "      <td>40.000000</td>\n",
       "      <td>40.00000</td>\n",
       "      <td>38.000000</td>\n",
       "      <td>39.000000</td>\n",
       "      <td>4.000000e+01</td>\n",
       "    </tr>\n",
       "    <tr>\n",
       "      <th>mean</th>\n",
       "      <td>20.500000</td>\n",
       "      <td>113.450000</td>\n",
       "      <td>112.350000</td>\n",
       "      <td>111.02500</td>\n",
       "      <td>151.052632</td>\n",
       "      <td>68.525641</td>\n",
       "      <td>9.087550e+05</td>\n",
       "    </tr>\n",
       "    <tr>\n",
       "      <th>std</th>\n",
       "      <td>11.690452</td>\n",
       "      <td>24.082071</td>\n",
       "      <td>23.616107</td>\n",
       "      <td>22.47105</td>\n",
       "      <td>23.478509</td>\n",
       "      <td>3.994649</td>\n",
       "      <td>7.228205e+04</td>\n",
       "    </tr>\n",
       "    <tr>\n",
       "      <th>min</th>\n",
       "      <td>1.000000</td>\n",
       "      <td>77.000000</td>\n",
       "      <td>71.000000</td>\n",
       "      <td>72.00000</td>\n",
       "      <td>106.000000</td>\n",
       "      <td>62.000000</td>\n",
       "      <td>7.906190e+05</td>\n",
       "    </tr>\n",
       "    <tr>\n",
       "      <th>25%</th>\n",
       "      <td>10.750000</td>\n",
       "      <td>89.750000</td>\n",
       "      <td>90.000000</td>\n",
       "      <td>88.25000</td>\n",
       "      <td>135.250000</td>\n",
       "      <td>66.000000</td>\n",
       "      <td>8.559185e+05</td>\n",
       "    </tr>\n",
       "    <tr>\n",
       "      <th>50%</th>\n",
       "      <td>20.500000</td>\n",
       "      <td>116.500000</td>\n",
       "      <td>113.000000</td>\n",
       "      <td>115.00000</td>\n",
       "      <td>146.500000</td>\n",
       "      <td>68.000000</td>\n",
       "      <td>9.053990e+05</td>\n",
       "    </tr>\n",
       "    <tr>\n",
       "      <th>75%</th>\n",
       "      <td>30.250000</td>\n",
       "      <td>135.500000</td>\n",
       "      <td>129.750000</td>\n",
       "      <td>128.00000</td>\n",
       "      <td>172.000000</td>\n",
       "      <td>70.500000</td>\n",
       "      <td>9.500780e+05</td>\n",
       "    </tr>\n",
       "    <tr>\n",
       "      <th>max</th>\n",
       "      <td>40.000000</td>\n",
       "      <td>144.000000</td>\n",
       "      <td>150.000000</td>\n",
       "      <td>150.00000</td>\n",
       "      <td>192.000000</td>\n",
       "      <td>77.000000</td>\n",
       "      <td>1.079549e+06</td>\n",
       "    </tr>\n",
       "  </tbody>\n",
       "</table>\n",
       "</div>"
      ],
      "text/plain": [
       "       Unnamed: 0        FSIQ         VIQ        PIQ      Weight     Height  \\\n",
       "count   40.000000   40.000000   40.000000   40.00000   38.000000  39.000000   \n",
       "mean    20.500000  113.450000  112.350000  111.02500  151.052632  68.525641   \n",
       "std     11.690452   24.082071   23.616107   22.47105   23.478509   3.994649   \n",
       "min      1.000000   77.000000   71.000000   72.00000  106.000000  62.000000   \n",
       "25%     10.750000   89.750000   90.000000   88.25000  135.250000  66.000000   \n",
       "50%     20.500000  116.500000  113.000000  115.00000  146.500000  68.000000   \n",
       "75%     30.250000  135.500000  129.750000  128.00000  172.000000  70.500000   \n",
       "max     40.000000  144.000000  150.000000  150.00000  192.000000  77.000000   \n",
       "\n",
       "          MRI_Count  \n",
       "count  4.000000e+01  \n",
       "mean   9.087550e+05  \n",
       "std    7.228205e+04  \n",
       "min    7.906190e+05  \n",
       "25%    8.559185e+05  \n",
       "50%    9.053990e+05  \n",
       "75%    9.500780e+05  \n",
       "max    1.079549e+06  "
      ]
     },
     "execution_count": 5,
     "metadata": {},
     "output_type": "execute_result"
    }
   ],
   "source": [
    "brain_data.describe()"
   ]
  },
  {
   "cell_type": "markdown",
   "id": "1d5c7045",
   "metadata": {
    "slideshow": {
     "slide_type": "slide"
    }
   },
   "source": [
    "# Mean vs Median\n",
    "\n",
    "![](mean_vs_median.png)\n",
    "\n",
    "* Learning Statistics with JASP - Page 61"
   ]
  },
  {
   "cell_type": "markdown",
   "id": "c529b117",
   "metadata": {
    "slideshow": {
     "slide_type": "slide"
    }
   },
   "source": [
    "# Inter Quantile Region\n",
    "\n",
    "* The interquartile range (IQR) is like the range, but instead of the difference between the biggest and smallest value the difference between the 25th percentile and the 75th percentile is taken. \n",
    "* Percentile : Arange the data in asceding order, then 25th percentile is 25% data is less than this value\n",
    "* In fact, we’ve already come across the idea. The median of a data set is its 50th percentile!"
   ]
  },
  {
   "cell_type": "markdown",
   "id": "85f4a6d2",
   "metadata": {
    "slideshow": {
     "slide_type": "slide"
    }
   },
   "source": [
    "# Standard Deviation\n",
    "\n",
    "* In general, you should expect 68% of the data to fall within 1 standard deviation of the mean,\n",
    "* 95% of the data to fall within 2 standard deviation of the mean, and\n",
    "* 99.7% of the data to fall within 3 standard deviations of the mean. \n",
    "\n"
   ]
  },
  {
   "cell_type": "markdown",
   "id": "2d744c3f",
   "metadata": {
    "slideshow": {
     "slide_type": "fragment"
    }
   },
   "source": [
    "* This rule tends to work pretty well most of the time, but it’s not exact. \n",
    "\n",
    "* It’s actually calculated based on an assumption that the histogram is symmetric and “bell shaped”.\n"
   ]
  },
  {
   "cell_type": "markdown",
   "id": "ba5f0b59",
   "metadata": {
    "slideshow": {
     "slide_type": "subslide"
    }
   },
   "source": [
    "\n",
    "![](sd.png)\n",
    "* Learning Statistics with JASP - Page 64"
   ]
  },
  {
   "cell_type": "markdown",
   "id": "3d0a9b34",
   "metadata": {
    "slideshow": {
     "slide_type": "slide"
    }
   },
   "source": [
    "## Plotting \n",
    "\n",
    "* Try plotting the data to get a complete picture\n",
    "\n",
    "![](./DinoSequentialSmaller.gif)\n",
    "\n",
    "Matejka, J., & Fitzmaurice, G.W. (2017). Same Stats, Different Graphs: Generating Datasets with Varied Appearance and Identical Statistics through Simulated Annealing. Proceedings of the 2017 CHI Conference on Human Factors in Computing Systems."
   ]
  },
  {
   "cell_type": "markdown",
   "id": "65b2e707",
   "metadata": {
    "slideshow": {
     "slide_type": "slide"
    }
   },
   "source": [
    "# Plots\n",
    "\n",
    "1. Scatter plot\n",
    "2. Box plot\n",
    "3. Density plot\n",
    "4. Rain cloud plot"
   ]
  },
  {
   "cell_type": "markdown",
   "id": "e06d55d4",
   "metadata": {
    "slideshow": {
     "slide_type": "slide"
    }
   },
   "source": [
    "# Scatter Plot"
   ]
  },
  {
   "cell_type": "code",
   "execution_count": 6,
   "id": "02a6c348",
   "metadata": {
    "slideshow": {
     "slide_type": "fragment"
    }
   },
   "outputs": [
    {
     "data": {
      "text/plain": [
       "<matplotlib.collections.PathCollection at 0x7fdc0c1f0550>"
      ]
     },
     "execution_count": 6,
     "metadata": {},
     "output_type": "execute_result"
    },
    {
     "data": {
      "image/png": "[encoded data removed]",
      "text/plain": [
       "<Figure size 640x480 with 1 Axes>"
      ]
     },
     "metadata": {},
     "output_type": "display_data"
    }
   ],
   "source": [
    "# Scater plot \n",
    "#todo\n",
    "plt.scatter(range(weight_gain_data.Difference.size), weight_gain_data.Difference)"
   ]
  },
  {
   "cell_type": "code",
   "execution_count": null,
   "id": "4f8f6587",
   "metadata": {},
   "outputs": [],
   "source": []
  },
  {
   "cell_type": "code",
   "execution_count": 7,
   "id": "dfbae7cb",
   "metadata": {
    "slideshow": {
     "slide_type": "subslide"
    }
   },
   "outputs": [
    {
     "data": {
      "text/plain": [
       "<matplotlib.collections.PathCollection at 0x7fdc0c087c50>"
      ]
     },
     "execution_count": 7,
     "metadata": {},
     "output_type": "execute_result"
    },
    {
     "data": {
      "image/png": "[encoded data removed]",
      "text/plain": [
       "<Figure size 640x480 with 1 Axes>"
      ]
     },
     "metadata": {},
     "output_type": "display_data"
    }
   ],
   "source": [
    "plt.scatter( weight_gain_data.Difference, np.zeros(weight_gain_data.Difference.size))"
   ]
  },
  {
   "cell_type": "markdown",
   "id": "d01fd1d7",
   "metadata": {
    "slideshow": {
     "slide_type": "slide"
    }
   },
   "source": [
    "# Box Plot"
   ]
  },
  {
   "cell_type": "code",
   "execution_count": 8,
   "id": "51f6e914",
   "metadata": {
    "slideshow": {
     "slide_type": "fragment"
    }
   },
   "outputs": [
    {
     "data": {
      "text/plain": [
       "<Axes: xlabel='Difference'>"
      ]
     },
     "execution_count": 8,
     "metadata": {},
     "output_type": "execute_result"
    },
    {
     "data": {
      "image/png": "[encoded data removed]",
      "text/plain": [
       "<Figure size 640x480 with 1 Axes>"
      ]
     },
     "metadata": {},
     "output_type": "display_data"
    }
   ],
   "source": [
    "#Box plot\n",
    "sns.boxplot(x=weight_gain_data[\"Difference\"])"
   ]
  },
  {
   "cell_type": "markdown",
   "id": "374dff19",
   "metadata": {
    "slideshow": {
     "slide_type": "subslide"
    }
   },
   "source": [
    "# Box plot\n",
    "\n",
    "![](https://chartio.com/assets/79165a/tutorials/charts/box-plots/e30a92b3850d486bef6d0752caaa3d110944b25c9ef3043d821a4998c32bb526/box-plot-construction.png)\n",
    "\n",
    "* https://chartio.com/learn/charts/box-plot-complete-guide/"
   ]
  },
  {
   "cell_type": "code",
   "execution_count": 6,
   "id": "36b90c94",
   "metadata": {
    "slideshow": {
     "slide_type": "subslide"
    }
   },
   "outputs": [
    {
     "data": {
      "text/plain": [
       "<Axes: >"
      ]
     },
     "execution_count": 6,
     "metadata": {},
     "output_type": "execute_result"
    },
    {
     "data": {
      "image/png": "[encoded data removed]",
      "text/plain": [
       "<Figure size 640x480 with 1 Axes>"
      ]
     },
     "metadata": {},
     "output_type": "display_data"
    }
   ],
   "source": [
    "sns.boxplot(data=weight_gain_data[[\"Weight Before\", \"Weight After\"]])"
   ]
  },
  {
   "cell_type": "code",
   "execution_count": 5,
   "id": "f941b370",
   "metadata": {
    "slideshow": {
     "slide_type": "subslide"
    }
   },
   "outputs": [
    {
     "data": {
      "text/plain": [
       "<Axes: >"
      ]
     },
     "execution_count": 5,
     "metadata": {},
     "output_type": "execute_result"
    },
    {
     "data": {
      "image/png": "[encoded data removed]",
      "text/plain": [
       "<Figure size 640x480 with 1 Axes>"
      ]
     },
     "metadata": {},
     "output_type": "display_data"
    }
   ],
   "source": [
    "sns.violinplot(data=weight_gain_data[[\"Weight Before\", \"Weight After\"]])"
   ]
  },
  {
   "cell_type": "markdown",
   "id": "9661a95f",
   "metadata": {
    "slideshow": {
     "slide_type": "slide"
    }
   },
   "source": [
    "# Density plot"
   ]
  },
  {
   "cell_type": "code",
   "execution_count": 11,
   "id": "4b4b376c",
   "metadata": {
    "slideshow": {
     "slide_type": "fragment"
    }
   },
   "outputs": [
    {
     "data": {
      "text/plain": [
       "<seaborn.axisgrid.FacetGrid at 0x7fdc09d9f690>"
      ]
     },
     "execution_count": 11,
     "metadata": {},
     "output_type": "execute_result"
    },
    {
     "data": {
      "image/png": "[encoded data removed]",
      "text/plain": [
       "<Figure size 500x500 with 1 Axes>"
      ]
     },
     "metadata": {},
     "output_type": "display_data"
    }
   ],
   "source": [
    "sns.displot(data=weight_gain_data, x=\"Weight Before\")"
   ]
  },
  {
   "cell_type": "code",
   "execution_count": 12,
   "id": "6a75e106",
   "metadata": {
    "slideshow": {
     "slide_type": "slide"
    }
   },
   "outputs": [
    {
     "data": {
      "text/plain": [
       "<seaborn.axisgrid.FacetGrid at 0x7fdc0bf992d0>"
      ]
     },
     "execution_count": 12,
     "metadata": {},
     "output_type": "execute_result"
    },
    {
     "data": {
      "image/png": "[encoded data removed]",
      "text/plain": [
       "<Figure size 500x500 with 1 Axes>"
      ]
     },
     "metadata": {},
     "output_type": "display_data"
    }
   ],
   "source": [
    "sns.displot(data=weight_gain_data, x=\"Weight Before\", kde=True)"
   ]
  },
  {
   "cell_type": "code",
   "execution_count": 13,
   "id": "753bd229",
   "metadata": {
    "slideshow": {
     "slide_type": "slide"
    }
   },
   "outputs": [
    {
     "data": {
      "text/plain": [
       "<seaborn.axisgrid.FacetGrid at 0x7fdc07cb5ad0>"
      ]
     },
     "execution_count": 13,
     "metadata": {},
     "output_type": "execute_result"
    },
    {
     "data": {
      "image/png": "[encoded data removed]",
      "text/plain": [
       "<Figure size 648.5x500 with 1 Axes>"
      ]
     },
     "metadata": {},
     "output_type": "display_data"
    }
   ],
   "source": [
    "sns.displot(data=weight_gain_data[[\"Weight Before\", \"Weight After\"]], kind='kde')"
   ]
  },
  {
   "cell_type": "markdown",
   "id": "b7b1533f",
   "metadata": {
    "slideshow": {
     "slide_type": "slide"
    }
   },
   "source": [
    "# Some plots lie !\n",
    "\n"
   ]
  },
  {
   "cell_type": "markdown",
   "id": "083b4ddf",
   "metadata": {
    "slideshow": {
     "slide_type": "fragment"
    }
   },
   "source": [
    "![](./boxplotproblem.png)\n",
    "\n",
    "Matejka, J., & Fitzmaurice, G.W. (2017). Same Stats, Different Graphs: Generating Datasets with Varied Appearance and Identical Statistics through Simulated Annealing. Proceedings of the 2017 CHI Conference on Human Factors in Computing Systems."
   ]
  },
  {
   "cell_type": "markdown",
   "id": "eb7c37b2",
   "metadata": {
    "slideshow": {
     "slide_type": "slide"
    }
   },
   "source": [
    "# Rain cloud Plot \n",
    "\n",
    "* Combining all the three plots together.\n",
    "* scatter + density + box plot"
   ]
  },
  {
   "cell_type": "markdown",
   "id": "fa9185f3",
   "metadata": {
    "slideshow": {
     "slide_type": "fragment"
    }
   },
   "source": [
    "![](./raincloud.png)"
   ]
  },
  {
   "cell_type": "markdown",
   "id": "06f005a7",
   "metadata": {
    "slideshow": {
     "slide_type": "slide"
    },
    "tags": []
   },
   "source": [
    "# Why statistical test why not compare mean?\n",
    "\n",
    "* For example our Weight Gain Dataset. \n",
    "* Mean(weight before ) = 144.63\n",
    "* Mean(weight after) = 155.045 \n",
    "* Difference of Means = 10.408 \n",
    "\n",
    "Can you conclude that there is conclusive evidence that the weights increase with the diet ?\n"
   ]
  },
  {
   "cell_type": "markdown",
   "id": "333d3c37",
   "metadata": {
    "slideshow": {
     "slide_type": "fragment"
    },
    "tags": []
   },
   "source": [
    "\n",
    "The fundamental question underlying statistical analysis: \n",
    "\n",
    ">estimating the amount of evidence in support of our hypothesis, even in the presence of noise.\n",
    "\n"
   ]
  },
  {
   "cell_type": "code",
   "execution_count": 14,
   "id": "749ab15c",
   "metadata": {
    "slideshow": {
     "slide_type": "subslide"
    },
    "tags": []
   },
   "outputs": [
    {
     "data": {
      "text/html": [
       "<div>\n",
       "<style scoped>\n",
       "    .dataframe tbody tr th:only-of-type {\n",
       "        vertical-align: middle;\n",
       "    }\n",
       "\n",
       "    .dataframe tbody tr th {\n",
       "        vertical-align: top;\n",
       "    }\n",
       "\n",
       "    .dataframe thead th {\n",
       "        text-align: right;\n",
       "    }\n",
       "</style>\n",
       "<table border=\"1\" class=\"dataframe\">\n",
       "  <thead>\n",
       "    <tr style=\"text-align: right;\">\n",
       "      <th></th>\n",
       "      <th>Weight Before</th>\n",
       "      <th>Weight After</th>\n",
       "      <th>Difference</th>\n",
       "    </tr>\n",
       "  </thead>\n",
       "  <tbody>\n",
       "    <tr>\n",
       "      <th>count</th>\n",
       "      <td>16.000000</td>\n",
       "      <td>16.000000</td>\n",
       "      <td>16.000000</td>\n",
       "    </tr>\n",
       "    <tr>\n",
       "      <th>mean</th>\n",
       "      <td>144.636250</td>\n",
       "      <td>155.045000</td>\n",
       "      <td>10.408750</td>\n",
       "    </tr>\n",
       "    <tr>\n",
       "      <th>std</th>\n",
       "      <td>22.704877</td>\n",
       "      <td>21.438057</td>\n",
       "      <td>3.840639</td>\n",
       "    </tr>\n",
       "    <tr>\n",
       "      <th>min</th>\n",
       "      <td>117.260000</td>\n",
       "      <td>129.360000</td>\n",
       "      <td>3.080000</td>\n",
       "    </tr>\n",
       "    <tr>\n",
       "      <th>25%</th>\n",
       "      <td>126.115000</td>\n",
       "      <td>137.885000</td>\n",
       "      <td>7.700000</td>\n",
       "    </tr>\n",
       "    <tr>\n",
       "      <th>50%</th>\n",
       "      <td>138.270000</td>\n",
       "      <td>147.840000</td>\n",
       "      <td>11.110000</td>\n",
       "    </tr>\n",
       "    <tr>\n",
       "      <th>75%</th>\n",
       "      <td>161.480000</td>\n",
       "      <td>170.335000</td>\n",
       "      <td>13.420000</td>\n",
       "    </tr>\n",
       "    <tr>\n",
       "      <th>max</th>\n",
       "      <td>201.740000</td>\n",
       "      <td>204.820000</td>\n",
       "      <td>15.620000</td>\n",
       "    </tr>\n",
       "  </tbody>\n",
       "</table>\n",
       "</div>"
      ],
      "text/plain": [
       "       Weight Before  Weight After  Difference\n",
       "count      16.000000     16.000000   16.000000\n",
       "mean      144.636250    155.045000   10.408750\n",
       "std        22.704877     21.438057    3.840639\n",
       "min       117.260000    129.360000    3.080000\n",
       "25%       126.115000    137.885000    7.700000\n",
       "50%       138.270000    147.840000   11.110000\n",
       "75%       161.480000    170.335000   13.420000\n",
       "max       201.740000    204.820000   15.620000"
      ]
     },
     "execution_count": 14,
     "metadata": {},
     "output_type": "execute_result"
    }
   ],
   "source": [
    "weight_gain_data.describe()"
   ]
  },
  {
   "cell_type": "markdown",
   "id": "40477982-de48-499e-adf5-4e9410b523e3",
   "metadata": {
    "slideshow": {
     "slide_type": "slide"
    },
    "tags": []
   },
   "source": [
    "# Some Terms\n",
    "\n",
    "1. Population\n",
    "    * Population mean\n",
    "2. Sample\n",
    "    * Sample mean\n"
   ]
  },
  {
   "cell_type": "markdown",
   "id": "e0d581e9",
   "metadata": {
    "slideshow": {
     "slide_type": "slide"
    },
    "tags": []
   },
   "source": [
    "# Statistical Testing for Evaluating Experiments\n",
    "\n",
    "* Deals with the relationship between data, its variance, and the confidence of a conclusion\n",
    "\n",
    "## A typical situation:\n",
    "* Existing technique A\n",
    "* You developed a new technique B\n",
    "* Key question: Is B better than A?\n"
   ]
  },
  {
   "cell_type": "markdown",
   "id": "3ff94e45",
   "metadata": {
    "slideshow": {
     "slide_type": "slide"
    }
   },
   "source": [
    "\n",
    "# Evaluating Experiments\n",
    "\n",
    "## 1.  Define a performance measure, e.g.\n",
    "* Run-time\n",
    "* Error\n",
    "* Accuracy\n",
    "* Robustness (success rate, mean time between failures, etc.)\n",
    "\n",
    "## 2. Collect data d\n",
    "* Run both techniques on the data d\n",
    "* How to compare the obtained results\n",
    "$A(d), B(d)$?\n"
   ]
  },
  {
   "cell_type": "markdown",
   "id": "091e7131",
   "metadata": {
    "slideshow": {
     "slide_type": "slide"
    }
   },
   "source": [
    "\n",
    "# 1st Example\n",
    "## Scenario\n",
    "* A, B are two HRI techniques\n",
    "* Score is the audience response time\n",
    "* Data d is a given map, start and goal pose\n",
    "\n",
    "## Example\n",
    "* A(d) = 0.5 s\n",
    "* B(d) = 0.6 s \n",
    "\n",
    "What does this mean?"
   ]
  },
  {
   "cell_type": "markdown",
   "id": "7d388241",
   "metadata": {
    "slideshow": {
     "slide_type": "slide"
    }
   },
   "source": [
    "# 2nd Example\n",
    "\n",
    "* Same scenario but four tasks\n",
    "\n",
    "## Example\n",
    "* A(d) = 0.5 s, 0.4 s, 0.6 s, 0.4 s\n",
    "* B(d) = 0.4 s, 0.3 s, 0.6 s, 0.5 s\n",
    "\n",
    "## Mean of the response time is\n",
    "* $μ_A$ = 1.9 s/4 = 0.475 s\n",
    "* $μ_B$ = 1.8 s/4 = 0.45 s\n",
    "\n",
    "Is B really better than A?"
   ]
  },
  {
   "cell_type": "markdown",
   "id": "c14b5768",
   "metadata": {
    "slideshow": {
     "slide_type": "slide"
    }
   },
   "source": [
    "\n",
    "# Is B better than A?\n",
    "* $μ_A$ = 0.475 s, $μ_B$ = 0.45 s\n",
    "* $μ_A$ > $μ_B$, so B is better than A?!\n",
    "* We just evaluated four tests, thus\n",
    "$μ_A$ and $μ_B$ are rough estimates only\n",
    "* We saw too few data to make statements with high confidence\n",
    "* How can we make a confident statement that B is better than A?\n"
   ]
  },
  {
   "cell_type": "markdown",
   "id": "1245abff",
   "metadata": {
    "slideshow": {
     "slide_type": "slide"
    }
   },
   "source": [
    "\n",
    "# Hypothesis Testing\n",
    "> “Answer a yes-no question about a population and assess that the answer is wrong.” [Cohen’ 95]\n",
    "\n",
    "* Example: To test that B is different from A, assume they are truly equal.\n",
    "\n",
    "Then, assess the probability of the obtained result. If the probability is small, reject the hypothesis."
   ]
  },
  {
   "cell_type": "markdown",
   "id": "22bb7250",
   "metadata": {
    "slideshow": {
     "slide_type": "slide"
    },
    "tags": []
   },
   "source": [
    "\n",
    "# The Null Hypothesis $H_0$\n",
    "\n",
    "* The null hypothesis is the hypothesis that one wants to reject by analyzing data (from experiments)\n",
    "* $H_0$ is the default state\n",
    "* A statistical test can never prove $H_0$\n",
    "* **A statistical test can only reject or fail to reject $H_0$**\n",
    "* Example: to show that method A is better than B, use $H_0$: A=B"
   ]
  },
  {
   "cell_type": "markdown",
   "id": "dcbfbfa3",
   "metadata": {
    "slideshow": {
     "slide_type": "slide"
    }
   },
   "source": [
    "\n",
    "# Typical/Popular Null Hypotheses\n",
    "\n",
    "### Example 1 : Comparing sample mean to a known or hypothesized population mean (based on theory).\n",
    "\n",
    " $$ H_0 : \\mu = 0 $$\n",
    " $ H_1 : \\mu \\neq 0 $  (two-tailed test )\n",
    " \n",
    " $ H_1 : \\mu < 0 $  (one-tailed test )\n",
    " \n",
    " $ H_1 : \\mu > 0 $  (one-tailed test )\n",
    " \n",
    " "
   ]
  },
  {
   "cell_type": "markdown",
   "id": "76b2e12c",
   "metadata": {
    "slideshow": {
     "slide_type": "fragment"
    }
   },
   "source": [
    "### Example 2 : Testing relationships between two or more variables\n",
    "\n",
    " $$ H_0 : \\mu_1 = \\mu_2 $$\n",
    " $ H_1 : \\mu_1 \\neq \\mu_2 $  (two-tailed test )\n",
    " \n",
    " $ H_1 : \\mu_1 < \\mu_2 $  (one-tailed test )\n",
    " \n",
    " \n",
    " $ H_1 : \\mu_1 > \\mu_2 $  (one-tailed test )\n"
   ]
  },
  {
   "cell_type": "markdown",
   "id": "1d22644f",
   "metadata": {
    "slideshow": {
     "slide_type": "slide"
    }
   },
   "source": [
    "# P Value\n"
   ]
  },
  {
   "cell_type": "markdown",
   "id": "60589de4",
   "metadata": {
    "slideshow": {
     "slide_type": "fragment"
    }
   },
   "source": [
    "![](pvalue.png)\n",
    "\n",
    "Learning Statistics with JASP, Page 169"
   ]
  },
  {
   "cell_type": "markdown",
   "id": "a0bc6087",
   "metadata": {
    "slideshow": {
     "slide_type": "slide"
    }
   },
   "source": [
    "# List of Tests\n",
    "\n",
    "\n",
    "* [1] https://jasp-stats.org/wp-content/uploads/2020/11/Statistical-Analysis-in-JASP-A-Students-Guide-v14-Nov2020.pdf\n",
    "* [2] https://jasp-stats.org/wp-content/uploads/2020/11/Data-for-handbook-upload.zip\n",
    "* https://jasp-stats.org/download/\n",
    "* https://docs.scipy.org/doc/scipy/reference/stats.html\n"
   ]
  },
  {
   "cell_type": "markdown",
   "id": "5102ccf2",
   "metadata": {
    "jp-MarkdownHeadingCollapsed": true,
    "slideshow": {
     "slide_type": "slide"
    }
   },
   "source": [
    "# 1. Student’s t-tests #\n"
   ]
  },
  {
   "cell_type": "markdown",
   "id": "9708c955",
   "metadata": {
    "slideshow": {
     "slide_type": "fragment"
    }
   },
   "source": [
    "# 1. One sample location test\n",
    "Research is normally carried out in sample populations, but how close does the sample reflect the\n",
    "whole population? The parametric one-sample t-test determines whether the sample mean is\n",
    "statistically different from a known or hypothesized population mean.\n",
    "The null hypothesis ($H_0$) tested is that the sample mean is equal to the population mean.\n",
    "\n",
    "* Given a µ and σ of a population\n",
    "* Test if a sample (from the population) has a significantly different mean than the population\n",
    "* Sample of size N\n",
    "\n",
    " $$ H_0 : \\mu = K $$\n",
    " $ H_1 : \\mu \\neq K $  (two-tailed test )\n",
    " \n",
    " $ H_1 : \\mu < K $  (one-tailed test )\n",
    " \n",
    " $ H_1 : \\mu > K $  (one-tailed test )\n",
    "\n",
    "\n"
   ]
  },
  {
   "cell_type": "markdown",
   "id": "806aa901",
   "metadata": {
    "slideshow": {
     "slide_type": "slide"
    },
    "tags": []
   },
   "source": [
    "## 1-sample t-test: Testing the value of a population mean\n",
    "\n",
    "scipy.stats.ttest_1samp() tests if the population mean of data is likely to be equal to a given value (technically if observations are drawn from a Gaussian distributions of given population mean). It returns the T statistic, and the p-value (see the function’s help):\n",
    "\n",
    "\n",
    "Null Hypothesis : $H_0 : \\mu_{VIQ} == 0 $\n",
    "\n",
    "Alternative Hypothesis : $H_1 : \\mu_{VIQ} \\neq 0$"
   ]
  },
  {
   "cell_type": "code",
   "execution_count": 31,
   "id": "60335d28",
   "metadata": {
    "slideshow": {
     "slide_type": "fragment"
    },
    "tags": []
   },
   "outputs": [
    {
     "data": {
      "text/plain": [
       "TtestResult(statistic=29.016872557556965, pvalue=5.151093741830535e-28, df=39)"
      ]
     },
     "execution_count": 31,
     "metadata": {},
     "output_type": "execute_result"
    }
   ],
   "source": [
    "from scipy import stats\n",
    "stats.ttest_1samp(brain_data['VIQ'], popmean=4)   \n"
   ]
  },
  {
   "cell_type": "markdown",
   "id": "f0a422bd",
   "metadata": {
    "slideshow": {
     "slide_type": "fragment"
    },
    "tags": []
   },
   "source": [
    "### Reporting/Conclusion\n",
    "\n",
    "With a p-value of 10^-28 we reject the null hypothesis and we can claim that the population mean for the IQ (VIQ measure) is not 0. "
   ]
  },
  {
   "cell_type": "code",
   "execution_count": 16,
   "id": "7c00a668-ce84-4d4a-9f8d-034daae82993",
   "metadata": {
    "slideshow": {
     "slide_type": "subslide"
    },
    "tags": []
   },
   "outputs": [
    {
     "data": {
      "text/plain": [
       "\u001b[0;31mSignature:\u001b[0m\n",
       "\u001b[0mstats\u001b[0m\u001b[0;34m.\u001b[0m\u001b[0mttest_1samp\u001b[0m\u001b[0;34m(\u001b[0m\u001b[0;34m\u001b[0m\n",
       "\u001b[0;34m\u001b[0m    \u001b[0ma\u001b[0m\u001b[0;34m,\u001b[0m\u001b[0;34m\u001b[0m\n",
       "\u001b[0;34m\u001b[0m    \u001b[0mpopmean\u001b[0m\u001b[0;34m,\u001b[0m\u001b[0;34m\u001b[0m\n",
       "\u001b[0;34m\u001b[0m    \u001b[0maxis\u001b[0m\u001b[0;34m=\u001b[0m\u001b[0;36m0\u001b[0m\u001b[0;34m,\u001b[0m\u001b[0;34m\u001b[0m\n",
       "\u001b[0;34m\u001b[0m    \u001b[0mnan_policy\u001b[0m\u001b[0;34m=\u001b[0m\u001b[0;34m'propagate'\u001b[0m\u001b[0;34m,\u001b[0m\u001b[0;34m\u001b[0m\n",
       "\u001b[0;34m\u001b[0m    \u001b[0malternative\u001b[0m\u001b[0;34m=\u001b[0m\u001b[0;34m'two-sided'\u001b[0m\u001b[0;34m,\u001b[0m\u001b[0;34m\u001b[0m\n",
       "\u001b[0;34m\u001b[0m    \u001b[0;34m*\u001b[0m\u001b[0;34m,\u001b[0m\u001b[0;34m\u001b[0m\n",
       "\u001b[0;34m\u001b[0m    \u001b[0mkeepdims\u001b[0m\u001b[0;34m=\u001b[0m\u001b[0;32mFalse\u001b[0m\u001b[0;34m,\u001b[0m\u001b[0;34m\u001b[0m\n",
       "\u001b[0;34m\u001b[0m\u001b[0;34m)\u001b[0m\u001b[0;34m\u001b[0m\u001b[0;34m\u001b[0m\u001b[0m\n",
       "\u001b[0;31mDocstring:\u001b[0m\n",
       "Calculate the T-test for the mean of ONE group of scores.\n",
       "\n",
       "This is a test for the null hypothesis that the expected value\n",
       "(mean) of a sample of independent observations `a` is equal to the given\n",
       "population mean, `popmean`.\n",
       "\n",
       "Parameters\n",
       "----------\n",
       "a : array_like\n",
       "    Sample observation.\n",
       "popmean : float or array_like\n",
       "    Expected value in null hypothesis. If array_like, then its length along\n",
       "    `axis` must equal 1, and it must otherwise be broadcastable with `a`.\n",
       "axis : int or None, default: 0\n",
       "    If an int, the axis of the input along which to compute the statistic.\n",
       "    The statistic of each axis-slice (e.g. row) of the input will appear in a\n",
       "    corresponding element of the output.\n",
       "    If ``None``, the input will be raveled before computing the statistic.\n",
       "nan_policy : {'propagate', 'omit', 'raise'}\n",
       "    Defines how to handle input NaNs.\n",
       "    \n",
       "    - ``propagate``: if a NaN is present in the axis slice (e.g. row) along\n",
       "      which the  statistic is computed, the corresponding entry of the output\n",
       "      will be NaN.\n",
       "    - ``omit``: NaNs will be omitted when performing the calculation.\n",
       "      If insufficient data remains in the axis slice along which the\n",
       "      statistic is computed, the corresponding entry of the output will be\n",
       "      NaN.\n",
       "    - ``raise``: if a NaN is present, a ``ValueError`` will be raised.\n",
       "alternative : {'two-sided', 'less', 'greater'}, optional\n",
       "    Defines the alternative hypothesis.\n",
       "    The following options are available (default is 'two-sided'):\n",
       "    \n",
       "    * 'two-sided': the mean of the underlying distribution of the sample\n",
       "      is different than the given population mean (`popmean`)\n",
       "    * 'less': the mean of the underlying distribution of the sample is\n",
       "      less than the given population mean (`popmean`)\n",
       "    * 'greater': the mean of the underlying distribution of the sample is\n",
       "      greater than the given population mean (`popmean`)\n",
       "keepdims : bool, default: False\n",
       "    If this is set to True, the axes which are reduced are left\n",
       "    in the result as dimensions with size one. With this option,\n",
       "    the result will broadcast correctly against the input array.\n",
       "\n",
       "Returns\n",
       "-------\n",
       "result : `~scipy.stats._result_classes.TtestResult`\n",
       "    An object with the following attributes:\n",
       "    \n",
       "    statistic : float or array\n",
       "        The t-statistic.\n",
       "    pvalue : float or array\n",
       "        The p-value associated with the given alternative.\n",
       "    df : float or array\n",
       "        The number of degrees of freedom used in calculation of the\n",
       "        t-statistic; this is one less than the size of the sample\n",
       "        (``a.shape[axis]``).\n",
       "    \n",
       "        .. versionadded:: 1.10.0\n",
       "    \n",
       "    The object also has the following method:\n",
       "    \n",
       "    confidence_interval(confidence_level=0.95)\n",
       "        Computes a confidence interval around the population\n",
       "        mean for the given confidence level.\n",
       "        The confidence interval is returned in a ``namedtuple`` with\n",
       "        fields `low` and `high`.\n",
       "    \n",
       "        .. versionadded:: 1.10.0\n",
       "\n",
       "Notes\n",
       "-----\n",
       "The statistic is calculated as ``(np.mean(a) - popmean)/se``, where\n",
       "``se`` is the standard error. Therefore, the statistic will be positive\n",
       "when the sample mean is greater than the population mean and negative when\n",
       "the sample mean is less than the population mean.\n",
       "\n",
       "Beginning in SciPy 1.9, ``np.matrix`` inputs (not recommended for new\n",
       "code) are converted to ``np.ndarray`` before the calculation is performed. In\n",
       "this case, the output will be a scalar or ``np.ndarray`` of appropriate shape\n",
       "rather than a 2D ``np.matrix``. Similarly, while masked elements of masked\n",
       "arrays are ignored, the output will be a scalar or ``np.ndarray`` rather than a\n",
       "masked array with ``mask=False``.\n",
       "\n",
       "Examples\n",
       "--------\n",
       "Suppose we wish to test the null hypothesis that the mean of a population\n",
       "is equal to 0.5. We choose a confidence level of 99%; that is, we will\n",
       "reject the null hypothesis in favor of the alternative if the p-value is\n",
       "less than 0.01.\n",
       "\n",
       "When testing random variates from the standard uniform distribution, which\n",
       "has a mean of 0.5, we expect the data to be consistent with the null\n",
       "hypothesis most of the time.\n",
       "\n",
       ">>> import numpy as np\n",
       ">>> from scipy import stats\n",
       ">>> rng = np.random.default_rng()\n",
       ">>> rvs = stats.uniform.rvs(size=50, random_state=rng)\n",
       ">>> stats.ttest_1samp(rvs, popmean=0.5)\n",
       "TtestResult(statistic=2.456308468440, pvalue=0.017628209047638, df=49)\n",
       "\n",
       "As expected, the p-value of 0.017 is not below our threshold of 0.01, so\n",
       "we cannot reject the null hypothesis.\n",
       "\n",
       "When testing data from the standard *normal* distribution, which has a mean\n",
       "of 0, we would expect the null hypothesis to be rejected.\n",
       "\n",
       ">>> rvs = stats.norm.rvs(size=50, random_state=rng)\n",
       ">>> stats.ttest_1samp(rvs, popmean=0.5)\n",
       "TtestResult(statistic=-7.433605518875, pvalue=1.416760157221e-09, df=49)\n",
       "\n",
       "Indeed, the p-value is lower than our threshold of 0.01, so we reject the\n",
       "null hypothesis in favor of the default \"two-sided\" alternative: the mean\n",
       "of the population is *not* equal to 0.5.\n",
       "\n",
       "However, suppose we were to test the null hypothesis against the\n",
       "one-sided alternative that the mean of the population is *greater* than\n",
       "0.5. Since the mean of the standard normal is less than 0.5, we would not\n",
       "expect the null hypothesis to be rejected.\n",
       "\n",
       ">>> stats.ttest_1samp(rvs, popmean=0.5, alternative='greater')\n",
       "TtestResult(statistic=-7.433605518875, pvalue=0.99999999929, df=49)\n",
       "\n",
       "Unsurprisingly, with a p-value greater than our threshold, we would not\n",
       "reject the null hypothesis.\n",
       "\n",
       "Note that when working with a confidence level of 99%, a true null\n",
       "hypothesis will be rejected approximately 1% of the time.\n",
       "\n",
       ">>> rvs = stats.uniform.rvs(size=(100, 50), random_state=rng)\n",
       ">>> res = stats.ttest_1samp(rvs, popmean=0.5, axis=1)\n",
       ">>> np.sum(res.pvalue < 0.01)\n",
       "1\n",
       "\n",
       "Indeed, even though all 100 samples above were drawn from the standard\n",
       "uniform distribution, which *does* have a population mean of 0.5, we would\n",
       "mistakenly reject the null hypothesis for one of them.\n",
       "\n",
       "`ttest_1samp` can also compute a confidence interval around the population\n",
       "mean.\n",
       "\n",
       ">>> rvs = stats.norm.rvs(size=50, random_state=rng)\n",
       ">>> res = stats.ttest_1samp(rvs, popmean=0)\n",
       ">>> ci = res.confidence_interval(confidence_level=0.95)\n",
       ">>> ci\n",
       "ConfidenceInterval(low=-0.3193887540880017, high=0.2898583388980972)\n",
       "\n",
       "The bounds of the 95% confidence interval are the\n",
       "minimum and maximum values of the parameter `popmean` for which the\n",
       "p-value of the test would be 0.05.\n",
       "\n",
       ">>> res = stats.ttest_1samp(rvs, popmean=ci.low)\n",
       ">>> np.testing.assert_allclose(res.pvalue, 0.05)\n",
       ">>> res = stats.ttest_1samp(rvs, popmean=ci.high)\n",
       ">>> np.testing.assert_allclose(res.pvalue, 0.05)\n",
       "\n",
       "Under certain assumptions about the population from which a sample\n",
       "is drawn, the confidence interval with confidence level 95% is expected\n",
       "to contain the true population mean in 95% of sample replications.\n",
       "\n",
       ">>> rvs = stats.norm.rvs(size=(50, 1000), loc=1, random_state=rng)\n",
       ">>> res = stats.ttest_1samp(rvs, popmean=0)\n",
       ">>> ci = res.confidence_interval()\n",
       ">>> contains_pop_mean = (ci.low < 1) & (ci.high > 1)\n",
       ">>> contains_pop_mean.sum()\n",
       "953\n",
       "\u001b[0;31mFile:\u001b[0m      ~/jupyter/lib/python3.11/site-packages/scipy/stats/_stats_py.py\n",
       "\u001b[0;31mType:\u001b[0m      function"
      ]
     },
     "metadata": {},
     "output_type": "display_data"
    }
   ],
   "source": [
    "stats.ttest_1samp?"
   ]
  },
  {
   "cell_type": "markdown",
   "id": "f70d2f22",
   "metadata": {
    "slideshow": {
     "slide_type": "slide"
    },
    "tags": []
   },
   "source": [
    "## One Sample t-Test: Assumptions\n",
    "*  Independently generated samples\n",
    "*  The sample distribution is Gaussian (otherwise the t-distribution is not the correct choice).\n",
    "*  Population mean is known.\n",
    "\n",
    "### Comments\n",
    "*  The t-Test is quite robust under non-Gaussian distributions\n",
    "*  Often a 95% or 99% confidence (=5% or 1% significance) level is used\n",
    "* t-Test is one of the most frequently used tests in science "
   ]
  },
  {
   "cell_type": "markdown",
   "id": "6bce8a25",
   "metadata": {
    "slideshow": {
     "slide_type": "slide"
    }
   },
   "source": [
    "# 2.  BINOMIAL TEST #"
   ]
  },
  {
   "cell_type": "markdown",
   "id": "29d9ed2b",
   "metadata": {
    "slideshow": {
     "slide_type": "fragment"
    }
   },
   "source": [
    "* The binomial test is effectively a non-parametric version of the one-sample t-test for use with dichotomous (i.e. yes/no) categorical datasets. \n",
    "* This tests whether or not the sample frequency is statistically different from a known or hypothesized population frequency.\n",
    "* The null hypothesis ($H_0$) tested is that the sample data frequency is equal to the expected population frequency.\n"
   ]
  },
  {
   "cell_type": "markdown",
   "id": "f10d24db",
   "metadata": {
    "slideshow": {
     "slide_type": "fragment"
    }
   },
   "source": [
    "\n",
    "## ASSUMPTIONS\n",
    "Three assumptions are required for a binomial test to provide a valid result:\n",
    "* The test variable should be a dichotomous scale (such as yes/no, male/female etc.).\n",
    "* The sample responses should be independent\n",
    "* The sample size is less, but representative of the population"
   ]
  },
  {
   "cell_type": "markdown",
   "id": "7bb2d20f",
   "metadata": {
    "slideshow": {
     "slide_type": "slide"
    }
   },
   "source": [
    "## Example : Laptop\n",
    "* Open binomial.csv; This contains one column of data showing the number of students using either a Windows laptop or a MacBook at University. \n",
    "* In January 2018, when comparing just the two operating systems, the UK market share of Windows was 86% and Mac IOS 14%.\n",
    "\n",
    "* Null hypothesis $H_0 = 0.86$\n",
    "* Alternate hypothesis $H_0 \\neq 0.86$"
   ]
  },
  {
   "cell_type": "code",
   "execution_count": 17,
   "id": "f2649b55",
   "metadata": {
    "slideshow": {
     "slide_type": "fragment"
    }
   },
   "outputs": [
    {
     "data": {
      "text/html": [
       "<div>\n",
       "<style scoped>\n",
       "    .dataframe tbody tr th:only-of-type {\n",
       "        vertical-align: middle;\n",
       "    }\n",
       "\n",
       "    .dataframe tbody tr th {\n",
       "        vertical-align: top;\n",
       "    }\n",
       "\n",
       "    .dataframe thead th {\n",
       "        text-align: right;\n",
       "    }\n",
       "</style>\n",
       "<table border=\"1\" class=\"dataframe\">\n",
       "  <thead>\n",
       "    <tr style=\"text-align: right;\">\n",
       "      <th></th>\n",
       "      <th>Laptop</th>\n",
       "    </tr>\n",
       "  </thead>\n",
       "  <tbody>\n",
       "    <tr>\n",
       "      <th>count</th>\n",
       "      <td>90</td>\n",
       "    </tr>\n",
       "    <tr>\n",
       "      <th>unique</th>\n",
       "      <td>2</td>\n",
       "    </tr>\n",
       "    <tr>\n",
       "      <th>top</th>\n",
       "      <td>Windows</td>\n",
       "    </tr>\n",
       "    <tr>\n",
       "      <th>freq</th>\n",
       "      <td>54</td>\n",
       "    </tr>\n",
       "  </tbody>\n",
       "</table>\n",
       "</div>"
      ],
      "text/plain": [
       "         Laptop\n",
       "count        90\n",
       "unique        2\n",
       "top     Windows\n",
       "freq         54"
      ]
     },
     "execution_count": 17,
     "metadata": {},
     "output_type": "execute_result"
    }
   ],
   "source": [
    "laptop_data = pd.read_csv('Binomial.csv')\n",
    "laptop_data\n",
    "laptop_data.describe()"
   ]
  },
  {
   "cell_type": "code",
   "execution_count": 18,
   "id": "48db496b",
   "metadata": {
    "slideshow": {
     "slide_type": "fragment"
    }
   },
   "outputs": [
    {
     "data": {
      "text/plain": [
       "Laptop \n",
       "Windows    54\n",
       "Mac        36\n",
       "Name: count, dtype: int64"
      ]
     },
     "execution_count": 18,
     "metadata": {},
     "output_type": "execute_result"
    }
   ],
   "source": [
    "laptop_data.value_counts()"
   ]
  },
  {
   "cell_type": "code",
   "execution_count": 19,
   "id": "5eb32e9a",
   "metadata": {
    "slideshow": {
     "slide_type": "slide"
    }
   },
   "outputs": [
    {
     "name": "stdout",
     "output_type": "stream",
     "text": [
      "pvalue :  1.1957465473118124e-09\n",
      "95% confidence level ConfidenceInterval(low=0.4913413183034394, high=0.7018860844296883)\n",
      "proportion estimate  0.6\n"
     ]
    }
   ],
   "source": [
    "result = stats.binomtest(54, n=90, p=0.86, alternative='two-sided')\n",
    "print ('pvalue : ', result.pvalue)\n",
    "print ('95% confidence level' ,result.proportion_ci(confidence_level=0.95))\n",
    "print ('proportion estimate ', result.proportion_estimate)"
   ]
  },
  {
   "cell_type": "markdown",
   "id": "7f3844df",
   "metadata": {
    "slideshow": {
     "slide_type": "fragment"
    }
   },
   "source": [
    "## REPORTING THE RESULTS\n",
    "The UK proportion of Windows and MacBook users was reported to be 86% and 14% respectively. In\n",
    "a cohort of University students (N=90), a Binomial test revealed that the proportion of students using\n",
    "Windows laptops was significantly less (60%, p<.001) and those using MacBooks significantly more\n",
    "(40.4%, p<.001) than expected."
   ]
  },
  {
   "cell_type": "markdown",
   "id": "9374ddc5",
   "metadata": {
    "slideshow": {
     "slide_type": "slide"
    }
   },
   "source": [
    "# 3. Two Sample t-Test\n"
   ]
  },
  {
   "cell_type": "markdown",
   "id": "626cbefc",
   "metadata": {
    "slideshow": {
     "slide_type": "slide"
    }
   },
   "source": [
    "* Often, one wants to compare the means of two samples to see if both are drawn from populations with equal means\n",
    "* Example: Compare two estimation procedures (operating on potentially different data sets) \n",
    "* Typical Hypotheses\n",
    " $$ H_0 : \\mu_1 = \\mu_2 $$\n",
    "\n",
    " $ H_1 : \\mu_1 \\neq \\mu_2 $  (two-tailed test )\n",
    " \n",
    " $ H_1 : \\mu_1 < \\mu_2 $  (one-tailed test )\n",
    " \n",
    " $ H_1 : \\mu_1 > \\mu_2 $  (one-tailed test )"
   ]
  },
  {
   "cell_type": "markdown",
   "id": "06820164",
   "metadata": {
    "slideshow": {
     "slide_type": "fragment"
    }
   },
   "source": [
    "* This test produces a t-score which is a ratio of the differences between the two groups and the differences within the two groups.\n",
    "* A large t-score indicates that there is a greater difference between groups. The smaller the t-score, the more similarity there is between groups. \n",
    "* A t-score of 5 means that the groups are five times as different from each other as they are within each other.\n",
    "* The null hypothesis ($H_0$) tested is that the population means from the two unrelated groups are equal."
   ]
  },
  {
   "cell_type": "markdown",
   "id": "92c6b11e",
   "metadata": {
    "slideshow": {
     "slide_type": "slide"
    },
    "tags": []
   },
   "source": [
    "## 2-sample t-test: testing for difference across populations\n",
    "\n",
    "We have seen above that the mean VIQ in the male and female populations were different. \n",
    "To test if this is significant, we do a 2-sample t-test with scipy.stats.ttest_ind():"
   ]
  },
  {
   "cell_type": "code",
   "execution_count": 20,
   "id": "51576fed",
   "metadata": {
    "slideshow": {
     "slide_type": "fragment"
    },
    "tags": []
   },
   "outputs": [
    {
     "data": {
      "text/plain": [
       "TtestResult(statistic=-0.7726161723275012, pvalue=0.44452876778583217, df=38.0)"
      ]
     },
     "execution_count": 20,
     "metadata": {},
     "output_type": "execute_result"
    }
   ],
   "source": [
    "female_viq = brain_data[brain_data['Gender'] == 'Female']['VIQ']\n",
    "\n",
    "male_viq = brain_data[brain_data['Gender'] == 'Male']['VIQ']\n",
    "\n",
    "stats.ttest_ind(female_viq, male_viq)  "
   ]
  },
  {
   "cell_type": "markdown",
   "id": "f7cf9158-8ce7-4466-abe4-a03da01b2949",
   "metadata": {
    "slideshow": {
     "slide_type": "fragment"
    },
    "tags": []
   },
   "source": [
    "With a p-value of 0.44 which is greater than 0.05 we accept the null hypothesis and we can claim that the population means for the IQ (VIQ measure) for both male and female are the same."
   ]
  },
  {
   "cell_type": "markdown",
   "id": "cda61566",
   "metadata": {
    "slideshow": {
     "slide_type": "slide"
    }
   },
   "source": [
    "\n",
    "## Paired tests: repeated measurements on the same individuals\n",
    "\n",
    "PIQ, VIQ, and FSIQ give 3 measures of IQ. Let us test if FISQ and PIQ are significantly different. We can use a 2 sample test:\n"
   ]
  },
  {
   "cell_type": "code",
   "execution_count": 21,
   "id": "4633921b",
   "metadata": {
    "slideshow": {
     "slide_type": "fragment"
    }
   },
   "outputs": [
    {
     "data": {
      "text/plain": [
       "TtestResult(statistic=0.465637596380964, pvalue=0.6427725009414841, df=78.0)"
      ]
     },
     "execution_count": 21,
     "metadata": {},
     "output_type": "execute_result"
    }
   ],
   "source": [
    "stats.ttest_ind(brain_data['FSIQ'], brain_data['PIQ'])   "
   ]
  },
  {
   "cell_type": "markdown",
   "id": "796a61db",
   "metadata": {
    "slideshow": {
     "slide_type": "fragment"
    }
   },
   "source": [
    "The problem with this approach is that it forgets that there are links between observations: FSIQ and PIQ are measured on the same individuals. Thus the variance due to inter-subject variability is confounding, and can be removed, using a “paired test”, or “repeated measures test”:\n",
    "\n"
   ]
  },
  {
   "cell_type": "code",
   "execution_count": 22,
   "id": "b13ed7ed",
   "metadata": {
    "slideshow": {
     "slide_type": "fragment"
    }
   },
   "outputs": [
    {
     "data": {
      "text/plain": [
       "TtestResult(statistic=1.7842019405859857, pvalue=0.08217263818364236, df=39)"
      ]
     },
     "execution_count": 22,
     "metadata": {},
     "output_type": "execute_result"
    }
   ],
   "source": [
    "stats.ttest_rel(brain_data['FSIQ'], brain_data['PIQ'])   "
   ]
  },
  {
   "cell_type": "markdown",
   "id": "17b0b0c1",
   "metadata": {
    "slideshow": {
     "slide_type": "slide"
    }
   },
   "source": [
    "# 4. One-way ANOVA"
   ]
  },
  {
   "cell_type": "markdown",
   "id": "87731b85",
   "metadata": {
    "slideshow": {
     "slide_type": "fragment"
    }
   },
   "source": [
    "* Whereas t-tests compare the means of two groups/conditions, one-way analysis of variance (ANOVA) compares the means of 3 or more groups/conditions. \n",
    "* The null hypothesis tested is that there is no significant difference between the means of all the groups. \n",
    "* If the null hypothesis is rejected, ANOVA just states that there is a significant difference between the groups but not where those differences occur. * To determine where the group differences are, post hoc (From the Latin post hoc, \"after this\") tests are subsequently used.\n",
    "\n",
    "$$H_0 : \\mu_1 = \\mu_2 = \\mu_n $$"
   ]
  },
  {
   "cell_type": "markdown",
   "id": "672db9f6",
   "metadata": {
    "slideshow": {
     "slide_type": "subslide"
    }
   },
   "source": [
    "## ASSUMPTIONS\n",
    "\n",
    "The independent ANOVA makes the same assumptions as most other parametric tests.\n",
    "* The independent variable must be categorical and the dependent variable must be continuous.\n",
    "* The groups should be independent of each other.\n",
    "* The dependent variable should be approximately normally distributed.\n",
    "* There should be no significant outliers.\n",
    "* There should be homogeneity of variance between the groups otherwise the p-value for the F-statistic may not be reliable.\n",
    "\n",
    "* The first 2 assumptions are usually controlled through the use of appropriate research method design.\n",
    "* If the last three assumptions are violated then the non-parametric equivalent, Kruskal-Wallis should be considered instead."
   ]
  },
  {
   "cell_type": "markdown",
   "id": "4ad3db27",
   "metadata": {
    "slideshow": {
     "slide_type": "subslide"
    }
   },
   "source": [
    "Data : ANOVA diets.csv. \n",
    "* This contains A column containing the 3 diets used (A, B and C)\n",
    "* another column containing the absolute amount of weight loss after 8 weeks on one of 3 differentdiets.\n",
    "* For good practice check the descriptive statistics and the boxplots for any extreme outliers"
   ]
  },
  {
   "cell_type": "code",
   "execution_count": 23,
   "id": "deacb8d6",
   "metadata": {
    "slideshow": {
     "slide_type": "fragment"
    }
   },
   "outputs": [
    {
     "data": {
      "text/html": [
       "<div>\n",
       "<style scoped>\n",
       "    .dataframe tbody tr th:only-of-type {\n",
       "        vertical-align: middle;\n",
       "    }\n",
       "\n",
       "    .dataframe tbody tr th {\n",
       "        vertical-align: top;\n",
       "    }\n",
       "\n",
       "    .dataframe thead th {\n",
       "        text-align: right;\n",
       "    }\n",
       "</style>\n",
       "<table border=\"1\" class=\"dataframe\">\n",
       "  <thead>\n",
       "    <tr style=\"text-align: right;\">\n",
       "      <th></th>\n",
       "      <th>Diet</th>\n",
       "      <th>Weight loss kg</th>\n",
       "    </tr>\n",
       "  </thead>\n",
       "  <tbody>\n",
       "    <tr>\n",
       "      <th>0</th>\n",
       "      <td>Diet A</td>\n",
       "      <td>3.8</td>\n",
       "    </tr>\n",
       "    <tr>\n",
       "      <th>1</th>\n",
       "      <td>Diet A</td>\n",
       "      <td>6.0</td>\n",
       "    </tr>\n",
       "    <tr>\n",
       "      <th>2</th>\n",
       "      <td>Diet A</td>\n",
       "      <td>0.7</td>\n",
       "    </tr>\n",
       "    <tr>\n",
       "      <th>3</th>\n",
       "      <td>Diet A</td>\n",
       "      <td>2.9</td>\n",
       "    </tr>\n",
       "    <tr>\n",
       "      <th>4</th>\n",
       "      <td>Diet A</td>\n",
       "      <td>2.8</td>\n",
       "    </tr>\n",
       "    <tr>\n",
       "      <th>...</th>\n",
       "      <td>...</td>\n",
       "      <td>...</td>\n",
       "    </tr>\n",
       "    <tr>\n",
       "      <th>67</th>\n",
       "      <td>Diet C</td>\n",
       "      <td>2.8</td>\n",
       "    </tr>\n",
       "    <tr>\n",
       "      <th>68</th>\n",
       "      <td>Diet C</td>\n",
       "      <td>4.1</td>\n",
       "    </tr>\n",
       "    <tr>\n",
       "      <th>69</th>\n",
       "      <td>Diet C</td>\n",
       "      <td>5.3</td>\n",
       "    </tr>\n",
       "    <tr>\n",
       "      <th>70</th>\n",
       "      <td>Diet C</td>\n",
       "      <td>9.2</td>\n",
       "    </tr>\n",
       "    <tr>\n",
       "      <th>71</th>\n",
       "      <td>Diet C</td>\n",
       "      <td>6.1</td>\n",
       "    </tr>\n",
       "  </tbody>\n",
       "</table>\n",
       "<p>72 rows × 2 columns</p>\n",
       "</div>"
      ],
      "text/plain": [
       "      Diet  Weight loss kg\n",
       "0   Diet A             3.8\n",
       "1   Diet A             6.0\n",
       "2   Diet A             0.7\n",
       "3   Diet A             2.9\n",
       "4   Diet A             2.8\n",
       "..     ...             ...\n",
       "67  Diet C             2.8\n",
       "68  Diet C             4.1\n",
       "69  Diet C             5.3\n",
       "70  Diet C             9.2\n",
       "71  Diet C             6.1\n",
       "\n",
       "[72 rows x 2 columns]"
      ]
     },
     "execution_count": 23,
     "metadata": {},
     "output_type": "execute_result"
    }
   ],
   "source": [
    "diet_loss_data = pd.read_csv('Independent ANOVA diets.csv')\n",
    "diet_loss_data"
   ]
  },
  {
   "cell_type": "code",
   "execution_count": 24,
   "id": "2bebd8f5",
   "metadata": {
    "slideshow": {
     "slide_type": "subslide"
    }
   },
   "outputs": [
    {
     "data": {
      "text/plain": [
       "<Axes: xlabel='Diet', ylabel='Weight loss kg'>"
      ]
     },
     "execution_count": 24,
     "metadata": {},
     "output_type": "execute_result"
    },
    {
     "data": {
      "image/png": "[encoded data removed]",
      "text/plain": [
       "<Figure size 640x480 with 1 Axes>"
      ]
     },
     "metadata": {},
     "output_type": "display_data"
    }
   ],
   "source": [
    "sns.boxplot(data=diet_loss_data, x='Diet', y='Weight loss kg')"
   ]
  },
  {
   "cell_type": "code",
   "execution_count": 25,
   "id": "be7f0bd5",
   "metadata": {
    "slideshow": {
     "slide_type": "fragment"
    }
   },
   "outputs": [
    {
     "data": {
      "text/plain": [
       "F_onewayResult(statistic=10.825519115627964, pvalue=8.145779232433143e-05)"
      ]
     },
     "execution_count": 25,
     "metadata": {},
     "output_type": "execute_result"
    }
   ],
   "source": [
    "stats.f_oneway(diet_loss_data[diet_loss_data['Diet'] == 'Diet A']['Weight loss kg'],\n",
    "               diet_loss_data[diet_loss_data['Diet'] == 'Diet B']['Weight loss kg'],\n",
    "               diet_loss_data[diet_loss_data['Diet'] == 'Diet C']['Weight loss kg'])"
   ]
  },
  {
   "cell_type": "markdown",
   "id": "b023eb80",
   "metadata": {
    "slideshow": {
     "slide_type": "fragment"
    }
   },
   "source": [
    "## Results \n",
    "\n",
    "The main ANOVA table shows that the F-statistic is significant (p<.001) and that there is a large effect\n",
    "size. Therefore, there is a significant difference between the means of the 3 diet groups."
   ]
  },
  {
   "cell_type": "markdown",
   "id": "68d0a7ea",
   "metadata": {
    "slideshow": {
     "slide_type": "slide"
    }
   },
   "source": [
    "# Post hoc Analysis : tukey_hsd\n",
    "\n",
    "* Tukey’s honestly significant difference (HSD) test performs pairwise comparison of means for a set of samples.\n",
    "* Whereas ANOVA (e.g. f_oneway) assesses whether the true means underlying each sample are identical, Tukey’s HSD is a post hoc test used to compare the mean of each sample to the mean of each other sample.\n",
    "\n",
    "* The null hypothesis is that the distributions underlying the samples all have the same mean. \n",
    "* The test statistic, which is computed for every possible pairing of samples, is simply the difference between the sample means. \n",
    "* For each pair, the p-value is the probability under the null hypothesis (and other assumptions; see notes) of observing such an extreme value of the statistic, considering that many pairwise comparisons are being performed. \n",
    "* Confidence intervals for the difference between each pair of means are also available.\n",
    "\n",
    "* https://docs.scipy.org/doc/scipy/reference/generated/scipy.stats.tukey_hsd.html#scipy.stats.tukey_hsd"
   ]
  },
  {
   "cell_type": "code",
   "execution_count": 26,
   "id": "570ad751",
   "metadata": {
    "slideshow": {
     "slide_type": "subslide"
    }
   },
   "outputs": [
    {
     "name": "stdout",
     "output_type": "stream",
     "text": [
      "Tukey's HSD Pairwise Group Comparisons (95.0% Confidence Interval)\n",
      "Comparison  Statistic  p-value  Lower CI  Upper CI\n",
      " (0 - 1)     -0.404     0.777    -1.832     1.024\n",
      " (0 - 2)     -2.579     0.000    -4.007    -1.151\n",
      " (1 - 0)      0.404     0.777    -1.024     1.832\n",
      " (1 - 2)     -2.175     0.001    -3.603    -0.747\n",
      " (2 - 0)      2.579     0.000     1.151     4.007\n",
      " (2 - 1)      2.175     0.001     0.747     3.603\n",
      "\n"
     ]
    }
   ],
   "source": [
    "res = stats.tukey_hsd(diet_loss_data[diet_loss_data['Diet'] == 'Diet A']['Weight loss kg'],\n",
    "               diet_loss_data[diet_loss_data['Diet'] == 'Diet B']['Weight loss kg'],\n",
    "               diet_loss_data[diet_loss_data['Diet'] == 'Diet C']['Weight loss kg'])\n",
    "print (res)"
   ]
  },
  {
   "cell_type": "markdown",
   "id": "bac771fa",
   "metadata": {
    "slideshow": {
     "slide_type": "fragment"
    }
   },
   "source": [
    "## Output\n",
    "\n",
    "* Post hoc testing shows that there is no significant difference between weight loss on diets A and B.\n",
    "* However, It is significantly higher in diet C compared to diet A (p<.001) and diet B (p=.001). Cohen’s d shows that these differences have a large effect size.\n",
    "\n",
    "## Reporting \n",
    "* Independent one way ANOVA showed a significant effect of the type of diet on weight loss after 10 weeks (F (2, 69) =46.184, p<.001, ω2 = 0.214.\n",
    "* Post hoc testing using Tukey’s correction revealed that diet C resulted in significantly greater weight loss than diet A (p<.001) or diet B (p=.001). \n",
    "* There were no significant differences in weight loss between diets A and B (p=.777)"
   ]
  },
  {
   "cell_type": "markdown",
   "id": "de1b01fd",
   "metadata": {
    "slideshow": {
     "slide_type": "slide"
    }
   },
   "source": [
    "# 4. Linear Regression\n",
    "\n",
    "* This approach is founded on the insight that t-tests and one-way ANOVAs  are all special cases of a general linear regression model. \n",
    "* Using regression analysis can help ensure consistency in analyzing and comparing results across studies. \n",
    "* It also offers a straightforward way to control for confounding variables.\n",
    "* Regression tests the null hypothesis ($H_0$) that there will be no significant prediction of the dependent(outcome) variable by the predictor variable(s)."
   ]
  },
  {
   "cell_type": "code",
   "execution_count": 27,
   "id": "99e3e15b",
   "metadata": {
    "slideshow": {
     "slide_type": "slide"
    }
   },
   "outputs": [
    {
     "data": {
      "image/png": "[encoded data removed]",
      "text/plain": [
       "<Figure size 640x480 with 1 Axes>"
      ]
     },
     "metadata": {},
     "output_type": "display_data"
    }
   ],
   "source": [
    "g = sns.scatterplot(data=weight_gain_data, x=\"Weight Before\", y=\"Weight After\")\n"
   ]
  },
  {
   "cell_type": "code",
   "execution_count": 28,
   "id": "8e8c5086",
   "metadata": {
    "slideshow": {
     "slide_type": "fragment"
    }
   },
   "outputs": [
    {
     "name": "stdout",
     "output_type": "stream",
     "text": [
      "20.32287010489955 6.04654012186869 2.1185490670472105e-12\n"
     ]
    }
   ],
   "source": [
    "result = stats.linregress(weight_gain_data['Weight Before'], weight_gain_data['Weight After'])\n",
    "print(result.intercept, result.intercept_stderr, result.pvalue)"
   ]
  },
  {
   "cell_type": "code",
   "execution_count": 29,
   "id": "bf2bf44c",
   "metadata": {
    "slideshow": {
     "slide_type": "fragment"
    }
   },
   "outputs": [
    {
     "data": {
      "image/png": "[encoded data removed]",
      "text/plain": [
       "<Figure size 640x480 with 1 Axes>"
      ]
     },
     "metadata": {},
     "output_type": "display_data"
    }
   ],
   "source": [
    "plt.plot(weight_gain_data['Weight Before'], weight_gain_data['Weight After'], 'o', label='original data')\n",
    "\n",
    "plt.plot(weight_gain_data['Weight Before'], result.intercept + result.slope*weight_gain_data['Weight Before'], 'r', label='fitted line')\n",
    "\n",
    "plt.legend()\n",
    "\n",
    "plt.show()"
   ]
  },
  {
   "cell_type": "markdown",
   "id": "6ee0372b",
   "metadata": {
    "jp-MarkdownHeadingCollapsed": true,
    "slideshow": {
     "slide_type": "slide"
    }
   },
   "source": [
    "# Assumptions of Statistical Tests\n",
    "\n",
    "* All of the above-mentioned statistical tests are only valid given certain assumptions. \n",
    "* For example, ANOVA assumes independence of observations, a normal distribution of residuals, and homoscedasticity of variances. \n",
    "* There exist statistical methods that check for violations of these assumptions."
   ]
  },
  {
   "cell_type": "markdown",
   "id": "d7f6c82c",
   "metadata": {
    "slideshow": {
     "slide_type": "slide"
    }
   },
   "source": [
    "# Normality Test\n",
    "\n",
    "* Before running the data we have to do the Normality Test \n",
    "* How to check if the data is normal \n",
    "* scipy.stats.normal_\n",
    "* Test whether a sample differs from a normal distribution.\n",
    "\n",
    "* This function tests the null hypothesis that a sample comes from a normal distribution. \n",
    "* It is based on D’Agostino and Pearson’s test that combines skew and kurtosis to produce an omnibus test of normality."
   ]
  },
  {
   "cell_type": "code",
   "execution_count": 30,
   "id": "1482255f",
   "metadata": {
    "slideshow": {
     "slide_type": "fragment"
    }
   },
   "outputs": [
    {
     "name": "stdout",
     "output_type": "stream",
     "text": [
      "pvalue  0.992891828851092\n"
     ]
    }
   ],
   "source": [
    "k2, p = stats.normaltest(diet_loss_data[diet_loss_data['Diet'] == 'Diet A']['Weight loss kg'])\n",
    "print ('pvalue ', p)"
   ]
  },
  {
   "cell_type": "markdown",
   "id": "45bc5a86",
   "metadata": {
    "slideshow": {
     "slide_type": "fragment"
    }
   },
   "source": [
    "# Reporting \n",
    "\n",
    "p value reported is higher than 0.05 so we have to accept the hypothesis that the data is normally distirbuted "
   ]
  },
  {
   "cell_type": "markdown",
   "id": "af4b6e89",
   "metadata": {
    "jp-MarkdownHeadingCollapsed": true,
    "slideshow": {
     "slide_type": "slide"
    }
   },
   "source": [
    "# Other Test\n",
    "\n",
    "* COMPARING MORE THAN TWO RELATED GROUPS - RMANOVA\n",
    "* COMPARING INDEPENDENT GROUPS AND THE EFFECTS OF COVARIATES : ANCOVA\n",
    "    * ANOVA can be used to compare the means of one variable (dependent) in two or more groups,\n",
    "    * whereas analysis of covariance (ANCOVA) sits between ANOVA and regression and compares the means of one (dependent) variable in two or more groups while taking into account the variability of other continuous variables (COVARIATES). \n",
    "* TWO-WAY INDEPENDENT ANOVA\n",
    "    * One-way ANOVA tests situations when only one independent variable is manipulated, \n",
    "    * two-way ANOVA is used when more than 1 independent variable has been manipulated. \n",
    "    * In this case, independent variables are known as factors."
   ]
  },
  {
   "cell_type": "markdown",
   "id": "961be19c",
   "metadata": {
    "slideshow": {
     "slide_type": "slide"
    }
   },
   "source": [
    "# Which Test should I use ?\n"
   ]
  },
  {
   "cell_type": "markdown",
   "id": "d3d94b93",
   "metadata": {
    "slideshow": {
     "slide_type": "fragment"
    }
   },
   "source": [
    "## Step 1 : Type of test \n",
    "* Comparing one sample to a known or hypothesized population mean.\n",
    "* Testing relationships between two or more variables\n",
    "* Predicting outcomes\n",
    "* Testing for differences between two independent groups\n",
    "* Testing for differences between two related groups\n",
    "* Testing for differences between three or more independent groups\n",
    "* Testing for differences between three or more related groups\n",
    "* Test for interactions between 2 or more independent variables\n",
    "*  ... "
   ]
  },
  {
   "cell_type": "markdown",
   "id": "dafd75c7",
   "metadata": {
    "slideshow": {
     "slide_type": "slide"
    }
   },
   "source": [
    "\n",
    "# Comparing one sample to a known or hypothesized population mean.\n",
    "![](onesampletestselection.png)\n",
    "\n",
    "- [Statistical-Analysis-in-JASP-A-Students-Guide-v14-Nov2020](https://jasp-stats.org/wp-content/uploads/2020/11/Statistical-Analysis-in-JASP-A-Students-Guide-v14-Nov2020.pdf) Page 165"
   ]
  },
  {
   "cell_type": "markdown",
   "id": "7825eb1f",
   "metadata": {
    "slideshow": {
     "slide_type": "slide"
    }
   },
   "source": [
    "# Task \n",
    "\n",
    "## Find the statistical test ?\n"
   ]
  },
  {
   "cell_type": "markdown",
   "id": "f5f272a0",
   "metadata": {
    "slideshow": {
     "slide_type": "fragment"
    }
   },
   "source": [
    "\n",
    "1. Experiment 1 : Weight Gain ?"
   ]
  },
  {
   "cell_type": "markdown",
   "id": "16e3f52e",
   "metadata": {
    "slideshow": {
     "slide_type": "fragment"
    }
   },
   "source": [
    "2. Experiment 2 : Response to eye color \n"
   ]
  },
  {
   "cell_type": "markdown",
   "id": "b026fcb5",
   "metadata": {
    "slideshow": {
     "slide_type": "fragment"
    }
   },
   "source": [
    "3. Experiment 3: Brain size Inteligence "
   ]
  },
  {
   "cell_type": "markdown",
   "id": "79390cff",
   "metadata": {
    "slideshow": {
     "slide_type": "slide"
    }
   },
   "source": [
    "# What Happens for Large N?\n",
    "\n",
    "* Have you seen p-value, statistical test in the papers you have read ? \n",
    "* Any Deep learning paper ?\n"
   ]
  },
  {
   "cell_type": "markdown",
   "id": "112a4408",
   "metadata": {
    "slideshow": {
     "slide_type": "fragment"
    }
   },
   "source": [
    "* The larger the sample size, the easier it is to show differences…\n",
    "*  … but for large sample sizes, we can show any statistical significant difference no matter how small it is\n",
    "*  A statistically significant difference does not tell anything about if the difference is meaningful!\n",
    "* See concept of “informativeness”\n",
    "* For large N, differences may by statistically significant but practically meaningless!"
   ]
  },
  {
   "cell_type": "markdown",
   "id": "8823ec23",
   "metadata": {
    "slideshow": {
     "slide_type": "slide"
    }
   },
   "source": [
    "# Additional : Bayesian Statistics\n",
    "\n",
    "![](bayesian_statistics.png)\n",
    "\n",
    "[Bayesian Data Analysis with JASP](https://osf.io/zkybj)\n",
    "\n"
   ]
  },
  {
   "cell_type": "markdown",
   "id": "dd8ed630",
   "metadata": {
    "slideshow": {
     "slide_type": "slide"
    }
   },
   "source": [
    "# Bayesian Statistics\n",
    "\n",
    "1. Bayesian Binomial test\n",
    "2. Bayesian ANOVA test \n",
    "3. Bayesian Regression test \n",
    "4. ...."
   ]
  },
  {
   "cell_type": "markdown",
   "id": "752740ac",
   "metadata": {
    "slideshow": {
     "slide_type": "subslide"
    }
   },
   "source": [
    "# Bayesian T-test\n",
    "\n",
    "![](https://best.readthedocs.io/en/latest/_images/smart_drug.png)\n",
    "\n",
    "[BEST: Bayesian Estimation Supersedes the t-test](https://best.readthedocs.io/en/latest/)"
   ]
  },
  {
   "cell_type": "markdown",
   "id": "0897e5a3",
   "metadata": {
    "slideshow": {
     "slide_type": "slide"
    },
    "tags": []
   },
   "source": [
    "# Ethical Question \n",
    "\n",
    "\n",
    "* Dark side of statistics \n",
    "* https://en.wikipedia.org/wiki/How_to_Lie_with_Statistics\n",
    "* https://genomicsclass.github.io/book/pages/plots_to_avoid.html\n",
    "* https://www.nature.com/articles/s41467-020-19160-7\n",
    "## Data Fraud Latest News\n",
    "\n",
    "* https://datacolada.org/109\n",
    "* "
   ]
  },
  {
   "cell_type": "markdown",
   "id": "4926c9ad",
   "metadata": {
    "slideshow": {
     "slide_type": "slide"
    },
    "tags": []
   },
   "source": [
    "# Conclusion \n",
    "\n",
    "\n",
    "* When to use NHST?\n",
    "* [Statistical-Analysis-in-JASP-A-Students-Guide](https://jasp-stats.org/wp-content/uploads/2020/11/Statistical-Analysis-in-JASP-A-Students-Guide-v14-Nov2020.pdf)\n",
    "    * Select the test you should do\n",
    "    * Prepare your experiments and dataset \n",
    "    * Do the test\n",
    "    "
   ]
  },
  {
   "cell_type": "markdown",
   "id": "1b9eb231",
   "metadata": {
    "slideshow": {
     "slide_type": "fragment"
    }
   },
   "source": [
    "* Dont stop here\n",
    "* [Statistical Analysis Bayesian Guide Jasp](http://static.jasp-stats.org/Manuals/Bayesian_Guide_v0_12_2_1.pdf)\n",
    "\n"
   ]
  },
  {
   "cell_type": "markdown",
   "id": "1d2a5e83",
   "metadata": {
    "slideshow": {
     "slide_type": "slide"
    }
   },
   "source": [
    "# Thank You "
   ]
  },
  {
   "cell_type": "markdown",
   "id": "28f00a3a",
   "metadata": {
    "slideshow": {
     "slide_type": "slide"
    }
   },
   "source": [
    "# References\n",
    "\n",
    "* https://scipy-lectures.org/packages/statistics/index.html\n",
    "* https://ethanweed.github.io/pythonbook/landingpage.html\n",
    "* https://scientistseessquirrel.wordpress.com/2018/10/02/presenting-statistical-results-pointers-in-scientific-writing/\n",
    "* https://web.archive.org/web/20091029162244/http://www.wiwi.uni-muenster.de/ioeb/en/organisation/pfaff/stat_overview_table.html\n",
    "* https://www.jmp.com/en_sg/statistics-knowledge-portal/t-test.html\n",
    "\n",
    "* [Writing Good hypothesis for robotics experiments](https://blog.robotiq.com/this-single-statement-generates-great-robotics-research)\n",
    "* [Hypothesis Testing](http://ais.informatik.uni-freiburg.de/teaching/ws11/robotics2/pdfs/rob2-22-testing.pdf)"
   ]
  },
  {
   "cell_type": "markdown",
   "id": "a5dab8b3",
   "metadata": {
    "slideshow": {
     "slide_type": "slide"
    }
   },
   "source": [
    "# Lab Class\n",
    "\n",
    "1. Statistics with JASP\n",
    "2. Exercise 1  \n"
   ]
  },
  {
   "cell_type": "markdown",
   "id": "bda51958",
   "metadata": {
    "slideshow": {
     "slide_type": "slide"
    }
   },
   "source": [
    "# Exercise:  Statiscital Test 1\n",
    "    \n",
    "‘Therapeutic Touch’ (TT) is a nursing practice rooted in mysticism but alleged to have a\n",
    "scientific basis. Practitioners of TT claim to treat medical conditions by using their hands to\n",
    "manipulate a ‘human energy field’ perceptible above the patients’ skin. Being a skeptical\n",
    "mind, 9-year old Emily Rosa ventured to test these claims by designing an experiment where\n",
    "TT practitioners had to correctly identify the location of the experimenter’s hand (above\n",
    "their left or right hand) while being blinded by a screen. The results of this experiment were\n",
    "later published in the prestigious Journal of the American Medical Association (Rosa et al.,\n",
    "1998).\n",
    "\n",
    "* (1) Open the “Emily Rosa” dataset  https://osf.io/3wg6m/m (under “5. Frequencies”).\n",
    "* (2) Get a descriptive overview of the data by producing a frequency table of the variable\n",
    "Outcome. How many percent of practitioners guessed correctly?\n",
    "* (3) What is the type of test ? Which test will you use ? Explain your answer ?\n",
    "* (4) State the null and alternate huypothesis.\n",
    "* (5) Conduct the test . Report will you accept the Null hypothesis? \n"
   ]
  },
  {
   "cell_type": "markdown",
   "id": "35f05266",
   "metadata": {
    "slideshow": {
     "slide_type": "slide"
    }
   },
   "source": [
    "# Exercise: Statistical Test 2 \n",
    "A teacher believes that directed reading activities in the classroom can improve the reading\n",
    "ability of elementary school children. She convinces her colleagues to give her the chance to\n",
    "try out the new method on a random sample of 21 third-graders. After they participated for\n",
    "8 weeks in the program, the children take the Degree of Reading Power test (DRP). Their\n",
    "scores are compared to a control group of 23 children who took the test on the same day\n",
    "and followed the same curriculum apart from the reading activities.\n",
    "\n",
    "* (1) Open the “Directed Reading Activities” or https://osf.io/3wg6m/ (under “2. T-Tests”).\n",
    "* (2) Get a descriptive overview of the data.\n",
    "    * a. Create a table that shows the means and standard deviations of DRP scores in the control and treatment group.\n",
    "    * b. Create a boxplot that shows the distribution of DRP scores for each group\n",
    "* (3) What is the type of test ? Which test will you use ? Explain your answer ?\n",
    "* (4) State the null and alternate huypothesis.\n",
    "* (5) Conduct the test . Report will you accept the Null hypothesis? \n"
   ]
  },
  {
   "cell_type": "markdown",
   "id": "ff11c935",
   "metadata": {
    "slideshow": {
     "slide_type": "slide"
    }
   },
   "source": [
    "# Exercise : \n",
    "\n",
    "A researcher is interested in what attributes people look for in a prospective partner.\n",
    "Specifically, the researcher wants to know whether looks or personality play an important\n",
    "role in this selection process, and whether the importance of these factors differs between\n",
    "men and women. They decide to design a speed-dating study where 20 people – 10 men\n",
    "and 10 women – each have speed-dates with 9 other people, who differ in attractiveness\n",
    "(either attractive, average, or ugly) and charisma (either high charisma, some charisma, or\n",
    "no charisma). After each speed date, the participants of the study rate their preference for\n",
    "each date, allowing the researcher to assess the influence of attractiveness and charisma on\n",
    "dating preference, and whether the influence differs between male and female raters.\n",
    "(Note that this is a fictional data set created by Andy Field.)\n",
    "\n",
    "* (1) Open the “Looks or Personality” dataset https://osf.io/3wg6m/ (under “3. ANOVA”).\n",
    "* (2) Create a table that shows the means and standard deviations of preference scores\n",
    "across attractiveness, charisma, and gender. Is this table easy to interpret? What\n",
    "might be an alternative method for obtaining a descriptive overview of the data?\n",
    "* (3) What is the type of test ? Which test will you use ? Explain your answer ?\n",
    "* (4) State the null and alternate huypothesis.\n",
    "* (5) Conduct the test . Report will you accept the Null hypothesis? "
   ]
  },
  {
   "cell_type": "code",
   "execution_count": null,
   "id": "5e9965cc",
   "metadata": {
    "slideshow": {
     "slide_type": ""
    },
    "tags": []
   },
   "outputs": [],
   "source": []
  }
 ],
 "metadata": {
  "celltoolbar": "Slideshow",
  "kernelspec": {
   "display_name": "Python 3 (ipykernel)",
   "language": "python",
   "name": "python3"
  },
  "language_info": {
   "codemirror_mode": {
    "name": "ipython",
    "version": 3
   },
   "file_extension": ".py",
   "mimetype": "text/x-python",
   "name": "python",
   "nbconvert_exporter": "python",
   "pygments_lexer": "ipython3",
   "version": "3.11.5"
  }
 },
 "nbformat": 4,
 "nbformat_minor": 5
}
