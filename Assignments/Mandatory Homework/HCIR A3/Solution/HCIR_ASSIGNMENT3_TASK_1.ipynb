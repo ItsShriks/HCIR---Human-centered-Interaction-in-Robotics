{
 "cells": [
  {
   "cell_type": "markdown",
   "id": "8cceab45-d661-4e76-a365-1e8861de535d",
   "metadata": {},
   "source": [
    "1.Design the Conditional Probability Tables (CPTs) for the Bayesian Network:\n",
    "\n",
    "Solution:\n",
    "1. Determine the possible states for each variable.\n",
    "2. Define the probabilities for each state based on intuitive reasoning.\n",
    "\n",
    "First, we define the states for each variable and set up the Conditional Probability Tables (CPTs) based on intuitive reasoning.\n",
    "\n",
    "# Conditional Probability Tables (CPTs) for the Bayesian Network\n",
    "\n",
    "## Variables and Their States\n",
    "- `user_intent`: {information_request, opinion_expression}\n",
    "- `discourse_state`: {previous_topic, new_topic}\n",
    "- `robot_intent`: {acknowledge, provide_statement}\n",
    "- `user_preference`: {long_statements, short_statements}\n",
    "- `robot_revised_intent`: {acknowledge_short, acknowledge_long, provide_statement_short, provide_statement_long}\n",
    "\n",
    "## CPT for `robot_intent` given `user_intent` and `discourse_state`\n",
    "\n",
    "| user_intent          | discourse_state | P(robot_intent = acknowledge) | P(robot_intent = provide_statement) |\n",
    "|----------------------|-----------------|-------------------------------|-------------------------------------|\n",
    "| information_request  | previous_topic  | 0.6                           | 0.4                                 |\n",
    "| information_request  | new_topic       | 0.4                           | 0.6                                 |\n",
    "| opinion_expression   | previous_topic  | 0.7                           | 0.3                                 |\n",
    "| opinion_expression   | new_topic       | 0.5                           | 0.5                                 |\n",
    "\n",
    "## CPT for `robot_revised_intent` given `robot_intent` and `user_preference`\n",
    "\n",
    "| robot_intent         | user_preference  | P(acknowledge_short) | P(acknowledge_long) | P(provide_statement_short) | P(provide_statement_long) |\n",
    "|----------------------|------------------|----------------------|---------------------|----------------------------|---------------------------|\n",
    "| acknowledge          | short_statements | 0.8                  | 0.2                 | 0                          | 0                         |\n",
    "| acknowledge          | long_statements  | 0.3                  | 0.7                 | 0                          | 0                         |\n",
    "| provide_statement    | short_statements | 0                    | 0                   | 0.7                        | 0.3                       |\n",
    "| provide_statement    | long_statements  | 0                    | 0                   | 0.4                        | 0.6                       |\n",
    "\n"
   ]
  },
  {
   "cell_type": "code",
   "execution_count": 1,
   "id": "b2e0c87a-b794-4bb1-b5a6-4d615c4b2f21",
   "metadata": {},
   "outputs": [
    {
     "data": {
      "image/svg+xml": [
       "<svg xmlns=\"http://www.w3.org/2000/svg\" xmlns:xlink=\"http://www.w3.org/1999/xlink\" width=\"433pt\" height=\"188pt\" viewBox=\"0.00 0.00 433.28 188.00\">\n",
       "<g id=\"graph0\" class=\"graph\" transform=\"scale(1 1) rotate(0) translate(4 184)\">\n",
       "<title>G</title>\n",
       "<!-- robot_revised_intent -->\n",
       "<g id=\"node1\" class=\"node\">\n",
       "<title>robot_revised_intent</title>\n",
       "<g id=\"a_node1\"><a xlink:title=\"(4) robot_revised_intent : 0.90000\">\n",
       "<ellipse fill=\"#f2f2f2\" stroke=\"#4a4a4a\" cx=\"253.49\" cy=\"-18\" rx=\"106.68\" ry=\"18\"/>\n",
       "<text text-anchor=\"middle\" x=\"253.49\" y=\"-14.3\" font-family=\"Times,serif\" font-size=\"14.00\">robot_revised_intent</text>\n",
       "</a>\n",
       "</g>\n",
       "</g>\n",
       "<!-- robot_intent -->\n",
       "<g id=\"node2\" class=\"node\">\n",
       "<title>robot_intent</title>\n",
       "<g id=\"a_node2\"><a xlink:title=\"(2) robot_intent : 0.90000\">\n",
       "<ellipse fill=\"#f2f2f2\" stroke=\"#4a4a4a\" cx=\"168.49\" cy=\"-90\" rx=\"67.69\" ry=\"18\"/>\n",
       "<text text-anchor=\"middle\" x=\"168.49\" y=\"-86.3\" font-family=\"Times,serif\" font-size=\"14.00\">robot_intent</text>\n",
       "</a>\n",
       "</g>\n",
       "</g>\n",
       "<!-- robot_intent&#45;&gt;robot_revised_intent -->\n",
       "<g id=\"edge3\" class=\"edge\">\n",
       "<title>robot_intent-&gt;robot_revised_intent</title>\n",
       "<g id=\"a_edge3\"><a xlink:title=\"2 → 4\">\n",
       "<path fill=\"none\" stroke=\"#4a4a4a\" d=\"M188.21,-72.76C199.12,-63.77 212.89,-52.44 224.97,-42.49\"/>\n",
       "<polygon fill=\"#4a4a4a\" stroke=\"#4a4a4a\" points=\"227.5,-44.94 233,-35.88 223.05,-39.53 227.5,-44.94\"/>\n",
       "</a>\n",
       "</g>\n",
       "</g>\n",
       "<!-- Discourse_state -->\n",
       "<g id=\"node3\" class=\"node\">\n",
       "<title>Discourse_state</title>\n",
       "<g id=\"a_node3\"><a xlink:title=\"(1) Discourse_state : 0.90000\">\n",
       "<ellipse fill=\"#f2f2f2\" stroke=\"#4a4a4a\" cx=\"84.49\" cy=\"-162\" rx=\"84.49\" ry=\"18\"/>\n",
       "<text text-anchor=\"middle\" x=\"84.49\" y=\"-158.3\" font-family=\"Times,serif\" font-size=\"14.00\">Discourse_state</text>\n",
       "</a>\n",
       "</g>\n",
       "</g>\n",
       "<!-- Discourse_state&#45;&gt;robot_intent -->\n",
       "<g id=\"edge2\" class=\"edge\">\n",
       "<title>Discourse_state-&gt;robot_intent</title>\n",
       "<g id=\"a_edge2\"><a xlink:title=\"1 → 2\">\n",
       "<path fill=\"none\" stroke=\"#4a4a4a\" d=\"M104.4,-144.41C115.28,-135.34 128.92,-123.97 140.82,-114.06\"/>\n",
       "<polygon fill=\"#4a4a4a\" stroke=\"#4a4a4a\" points=\"143.29,-116.56 148.73,-107.47 138.81,-111.18 143.29,-116.56\"/>\n",
       "</a>\n",
       "</g>\n",
       "</g>\n",
       "<!-- user_preference -->\n",
       "<g id=\"node4\" class=\"node\">\n",
       "<title>user_preference</title>\n",
       "<g id=\"a_node4\"><a xlink:title=\"(3) user_preference : 0.90000\">\n",
       "<ellipse fill=\"#f2f2f2\" stroke=\"#4a4a4a\" cx=\"339.49\" cy=\"-90\" rx=\"85.59\" ry=\"18\"/>\n",
       "<text text-anchor=\"middle\" x=\"339.49\" y=\"-86.3\" font-family=\"Times,serif\" font-size=\"14.00\">user_preference</text>\n",
       "</a>\n",
       "</g>\n",
       "</g>\n",
       "<!-- user_preference&#45;&gt;robot_revised_intent -->\n",
       "<g id=\"edge4\" class=\"edge\">\n",
       "<title>user_preference-&gt;robot_revised_intent</title>\n",
       "<g id=\"a_edge4\"><a xlink:title=\"3 → 4\">\n",
       "<path fill=\"none\" stroke=\"#4a4a4a\" d=\"M319.11,-72.41C308.05,-63.41 294.21,-52.14 282.09,-42.27\"/>\n",
       "<polygon fill=\"#4a4a4a\" stroke=\"#4a4a4a\" points=\"283.99,-39.31 274.03,-35.71 279.57,-44.74 283.99,-39.31\"/>\n",
       "</a>\n",
       "</g>\n",
       "</g>\n",
       "<!-- User_Intent -->\n",
       "<g id=\"node5\" class=\"node\">\n",
       "<title>User_Intent</title>\n",
       "<g id=\"a_node5\"><a xlink:title=\"(0) User_Intent : 0.90000\">\n",
       "<ellipse fill=\"#f2f2f2\" stroke=\"#4a4a4a\" cx=\"252.49\" cy=\"-162\" rx=\"65.79\" ry=\"18\"/>\n",
       "<text text-anchor=\"middle\" x=\"252.49\" y=\"-158.3\" font-family=\"Times,serif\" font-size=\"14.00\">User_Intent</text>\n",
       "</a>\n",
       "</g>\n",
       "</g>\n",
       "<!-- User_Intent&#45;&gt;robot_intent -->\n",
       "<g id=\"edge1\" class=\"edge\">\n",
       "<title>User_Intent-&gt;robot_intent</title>\n",
       "<g id=\"a_edge1\"><a xlink:title=\"0 → 2\">\n",
       "<path fill=\"none\" stroke=\"#4a4a4a\" d=\"M233.01,-144.76C222.06,-135.64 208.22,-124.1 196.16,-114.06\"/>\n",
       "<polygon fill=\"#4a4a4a\" stroke=\"#4a4a4a\" points=\"198.08,-111.1 188.16,-107.39 193.6,-116.48 198.08,-111.1\"/>\n",
       "</a>\n",
       "</g>\n",
       "</g>\n",
       "</g>\n",
       "</svg>"
      ],
      "text/plain": [
       "<IPython.core.display.SVG object>"
      ]
     },
     "metadata": {},
     "output_type": "display_data"
    }
   ],
   "source": [
    "import pyAgrum as gum\n",
    "import pyAgrum.lib.notebook as gnb\n",
    "\n",
    "\n",
    "# Create a Bayesian network\n",
    "bn = gum.BayesNet('HCIR')\n",
    "\n",
    "# Define variables\n",
    "User_Intent = bn.add(gum.LabelizedVariable('User_Intent', 'User_intent?', ['information_request', 'opinion_expression']))\n",
    "Discourse_state = bn.add(gum.LabelizedVariable('Discourse_state', 'Discourse_state?', ['Previous_topic', 'New_topic']))\n",
    "robot_intent = bn.add(gum.LabelizedVariable('robot_intent', 'robot_intent?', ['acknowledge', 'provide_statement']))\n",
    "user_preference = bn.add(gum.LabelizedVariable('user_preference', 'user_preference?', ['long_statements', 'short_statements']))\n",
    "robot_revised_intent = bn.add(gum.LabelizedVariable('robot_revised_intent', 'robot_revised_intent?', ['acknowledge_short', 'acknowledge_long', 'provide_statement_long', 'provide_statement_short']))\n",
    "\n",
    "# Add arcs\n",
    "for link in [(User_Intent, robot_intent), (Discourse_state, robot_intent), (robot_intent, robot_revised_intent), (user_preference, robot_revised_intent)]:\n",
    "    bn.addArc(*link)\n",
    "\n",
    "gnb.showBN(bn,nodeColor={n:0.9 for n in bn.names()}, size=\"20\" )\n"
   ]
  },
  {
   "cell_type": "code",
   "execution_count": 2,
   "id": "7e57c165-ddf5-4a65-8188-087b7b8be3b8",
   "metadata": {},
   "outputs": [
    {
     "data": {
      "text/html": [
       "<table style=\"border:1px solid black;border-collapse: collapse;\"><tr><th colspan='2'></th>\n",
       "      <th colspan='2' style='border:1px solid black;color:black;background-color:#808080;'><center>robot_intent</center>\n",
       "      </th></tr><tr><th style='border:1px solid black;color:black;background-color:#808080'><center>Discourse_state</center></th><th style='border:1px solid black;color:black;background-color:#808080'><center>User_Intent</center></th><th style='border:1px solid black;border-bottom-style: double;color:black;background-color:#BBBBBB'>\n",
       "      <center>acknowledge</center></th><th style='border:1px solid black;border-bottom-style: double;color:black;background-color:#BBBBBB'>\n",
       "      <center>provide_statement</center></th></tr><tr><th style='border:1px solid black;color:black;background-color:#BBBBBB;' rowspan = '2'>\n",
       "            <center>Previous_topic</center></th><th style='border:1px solid black;color:black;background-color:#BBBBBB'><center>information_request</center></th><td style='color:black;background-color:#b2cb64;text-align:right;padding: 3px;'>0.6000</td><td style='color:black;background-color:#cbb264;text-align:right;padding: 3px;'>0.4000</td></tr><tr><th style='border:1px solid black;color:black;background-color:#BBBBBB'><center>opinion_expression</center></th><td style='color:black;background-color:#a5d864;text-align:right;padding: 3px;'>0.7000</td><td style='color:black;background-color:#d8a564;text-align:right;padding: 3px;'>0.3000</td></tr><tr><th style='border:1px solid black;color:black;background-color:#BBBBBB;' rowspan = '2'>\n",
       "            <center>New_topic</center></th><th style='border:1px solid black;color:black;background-color:#BBBBBB'><center>information_request</center></th><td style='color:black;background-color:#cbb264;text-align:right;padding: 3px;'>0.4000</td><td style='color:black;background-color:#b2cb64;text-align:right;padding: 3px;'>0.6000</td></tr><tr><th style='border:1px solid black;color:black;background-color:#BBBBBB'><center>opinion_expression</center></th><td style='color:black;background-color:#bfbf64;text-align:right;padding: 3px;'>0.5000</td><td style='color:black;background-color:#bfbf64;text-align:right;padding: 3px;'>0.5000</td></tr></table>"
      ],
      "text/plain": [
       "<IPython.core.display.HTML object>"
      ]
     },
     "metadata": {},
     "output_type": "display_data"
    },
    {
     "data": {
      "text/html": [
       "<table style=\"border:1px solid black;border-collapse: collapse;\"><tr><th colspan='2'></th>\n",
       "      <th colspan='4' style='border:1px solid black;color:black;background-color:#808080;'><center>robot_revised_intent</center>\n",
       "      </th></tr><tr><th style='border:1px solid black;color:black;background-color:#808080'><center>user_preference</center></th><th style='border:1px solid black;color:black;background-color:#808080'><center>robot_intent</center></th><th style='border:1px solid black;border-bottom-style: double;color:black;background-color:#BBBBBB'>\n",
       "      <center>acknowledge_short</center></th><th style='border:1px solid black;border-bottom-style: double;color:black;background-color:#BBBBBB'>\n",
       "      <center>acknowledge_long</center></th><th style='border:1px solid black;border-bottom-style: double;color:black;background-color:#BBBBBB'>\n",
       "      <center>provide_statement_long</center></th><th style='border:1px solid black;border-bottom-style: double;color:black;background-color:#BBBBBB'>\n",
       "      <center>provide_statement_short</center></th></tr><tr><th style='border:1px solid black;color:black;background-color:#BBBBBB;' rowspan = '2'>\n",
       "            <center>long_statements</center></th><th style='border:1px solid black;color:black;background-color:#BBBBBB'><center>acknowledge</center></th><td style='color:black;background-color:#e59864;text-align:right;padding: 3px;'>0.2000</td><td style='color:black;background-color:#b2cb64;text-align:right;padding: 3px;'>0.6000</td><td style='color:black;background-color:#f28b64;text-align:right;padding: 3px;'>0.1000</td><td style='color:black;background-color:#f28b64;text-align:right;padding: 3px;'>0.1000</td></tr><tr><th style='border:1px solid black;color:black;background-color:#BBBBBB'><center>provide_statement</center></th><td style='color:black;background-color:#e59864;text-align:right;padding: 3px;'>0.2000</td><td style='color:black;background-color:#e59864;text-align:right;padding: 3px;'>0.2000</td><td style='color:black;background-color:#d8a564;text-align:right;padding: 3px;'>0.3000</td><td style='color:black;background-color:#d8a564;text-align:right;padding: 3px;'>0.3000</td></tr><tr><th style='border:1px solid black;color:black;background-color:#BBBBBB;' rowspan = '2'>\n",
       "            <center>short_statements</center></th><th style='border:1px solid black;color:black;background-color:#BBBBBB'><center>acknowledge</center></th><td style='color:black;background-color:#b2cb64;text-align:right;padding: 3px;'>0.6000</td><td style='color:black;background-color:#e59864;text-align:right;padding: 3px;'>0.2000</td><td style='color:black;background-color:#f28b64;text-align:right;padding: 3px;'>0.1000</td><td style='color:black;background-color:#f28b64;text-align:right;padding: 3px;'>0.1000</td></tr><tr><th style='border:1px solid black;color:black;background-color:#BBBBBB'><center>provide_statement</center></th><td style='color:black;background-color:#e59864;text-align:right;padding: 3px;'>0.2000</td><td style='color:black;background-color:#f28b64;text-align:right;padding: 3px;'>0.1000</td><td style='color:black;background-color:#bfbf64;text-align:right;padding: 3px;'>0.5000</td><td style='color:black;background-color:#e59864;text-align:right;padding: 3px;'>0.2000</td></tr></table>"
      ],
      "text/plain": [
       "<IPython.core.display.HTML object>"
      ]
     },
     "metadata": {},
     "output_type": "display_data"
    }
   ],
   "source": [
    "\n",
    "# Define the CPT for robot_intent given User_Intent and Discourse_state\n",
    "bn.cpt(robot_intent)[{'User_Intent': 'information_request', 'Discourse_state': 'Previous_topic'}] = [0.6, 0.4]\n",
    "bn.cpt(robot_intent)[{'User_Intent': 'information_request', 'Discourse_state': 'New_topic'}] = [0.4, 0.6]\n",
    "bn.cpt(robot_intent)[{'User_Intent': 'opinion_expression', 'Discourse_state': 'Previous_topic'}] = [0.7, 0.3]\n",
    "bn.cpt(robot_intent)[{'User_Intent': 'opinion_expression', 'Discourse_state': 'New_topic'}] = [0.5, 0.5]\n",
    "\n",
    "# Define the CPT for robot_revised_intent given robot_intent and user_preference\n",
    "bn.cpt(robot_revised_intent)[{'robot_intent': 'acknowledge', 'user_preference': 'short_statements'}] = [0.6, 0.2, 0.1, 0.1]\n",
    "bn.cpt(robot_revised_intent)[{'robot_intent': 'acknowledge', 'user_preference': 'long_statements'}] = [0.2, 0.6, 0.1, 0.1]\n",
    "bn.cpt(robot_revised_intent)[{'robot_intent': 'provide_statement', 'user_preference': 'short_statements'}] = [0.2, 0.1, 0.5, 0.2]\n",
    "bn.cpt(robot_revised_intent)[{'robot_intent': 'provide_statement', 'user_preference': 'long_statements'}] = [0.2, 0.2, 0.3, 0.3]\n",
    "\n",
    "# Display the CPT tables\n",
    "gnb.showPotential(bn.cpt(robot_intent))\n",
    "gnb.showPotential(bn.cpt(robot_revised_intent))\n"
   ]
  },
  {
   "cell_type": "code",
   "execution_count": 3,
   "id": "2182c44a-be6b-4f46-97f2-3b7d042dd243",
   "metadata": {},
   "outputs": [
    {
     "name": "stdout",
     "output_type": "stream",
     "text": [
      "P(robot_intent = acknowledge | user_intent = information_request, user_preference = long_statements, discourse_state = new_topic) = 0.4\n"
     ]
    }
   ],
   "source": [
    "# Create an inference engine\n",
    "ie = gum.LazyPropagation(bn)\n",
    "\n",
    "# Set evidence for user_intent and user_preference\n",
    "ie.setEvidence({'User_Intent': 'information_request', 'user_preference': 'long_statements'})\n",
    "\n",
    "# Now add the evidence for discourse_state\n",
    "ie.setEvidence({'User_Intent': 'information_request', 'user_preference': 'long_statements', 'Discourse_state': 'New_topic'})\n",
    "\n",
    "# Compute the posterior distribution again\n",
    "ie.makeInference()\n",
    "posterior_robot_intent_with_discourse = ie.posterior(robot_intent)\n",
    "print(\"P(robot_intent = acknowledge | user_intent = information_request, user_preference = long_statements, discourse_state = new_topic) =\", posterior_robot_intent_with_discourse[0])"
   ]
  },
  {
   "cell_type": "markdown",
   "id": "fba61a75-7dda-490d-933c-5f267be6e9e6",
   "metadata": {},
   "source": [
    "When we add the evidence `discourse_state = new_topic`, we are providing additional information to the Bayesian network. This additional evidence influences the probability distribution of the variables in the network, including the probability of `robot_intent = acknowledge`.\n",
    "\n",
    "Observing the conditional probabilities in the Bayesian network, we see that the probability of `robot_intent = acknowledge` given `user_intent = information_request` and `discourse_state = new_topic` is higher compared to when `discourse_state = previous_topic`. Specifically, when `discourse_state = new_topic`, the probability of `robot_intent = acknowledge` increases to 0.6, whereas when `discourse_state = previous_topic`, it is 0.4.\n",
    "\n",
    "This change occurs because the Bayesian network encodes the relationships between variables based on conditional probabilities. When `discourse_state = new_topic`, it might imply a need for the robot to acknowledge the new topic more often compared to when it's a continuation of the previous topic. This observation aligns with how in conversations, acknowledging a new topic is a common conversational strategy to signal understanding and engagement.\n",
    "\n",
    "Therefore, by adding the evidence `discourse_state = new_topic`, the probability of `robot_intent = acknowledge` increases, reflecting the network's updated belief based on the provided evidence.\n"
   ]
  },
  {
   "cell_type": "code",
   "execution_count": null,
   "id": "b74becf5-f9b9-4f89-9b70-89ffd0e0059a",
   "metadata": {},
   "outputs": [],
   "source": []
  }
 ],
 "metadata": {
  "kernelspec": {
   "display_name": "Python 3 (ipykernel)",
   "language": "python",
   "name": "python3"
  },
  "language_info": {
   "codemirror_mode": {
    "name": "ipython",
    "version": 3
   },
   "file_extension": ".py",
   "mimetype": "text/x-python",
   "name": "python",
   "nbconvert_exporter": "python",
   "pygments_lexer": "ipython3",
   "version": "3.10.12"
  }
 },
 "nbformat": 4,
 "nbformat_minor": 5
}
