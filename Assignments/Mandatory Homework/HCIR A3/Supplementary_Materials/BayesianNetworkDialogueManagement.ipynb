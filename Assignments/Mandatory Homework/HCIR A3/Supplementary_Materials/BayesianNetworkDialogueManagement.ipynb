{
 "cells": [
  {
   "cell_type": "code",
   "execution_count": 2,
   "metadata": {
    "colab": {
     "base_uri": "https://localhost:8080/"
    },
    "id": "M4WTDFROFW__",
    "outputId": "9314c0c4-d90e-419c-afba-1cfe7ec5a0a8"
   },
   "outputs": [
    {
     "name": "stdout",
     "output_type": "stream",
     "text": [
      "Requirement already satisfied: pyagrum in c:\\users\\thassa2m\\anaconda3\\lib\\site-packages (1.7.1)\n",
      "Requirement already satisfied: matplotlib in c:\\users\\thassa2m\\anaconda3\\lib\\site-packages (from pyagrum) (3.7.0)\n",
      "Requirement already satisfied: pydot in c:\\users\\thassa2m\\anaconda3\\lib\\site-packages (from pyagrum) (1.4.2)\n",
      "Requirement already satisfied: numpy in c:\\users\\thassa2m\\anaconda3\\lib\\site-packages (from pyagrum) (1.23.5)\n",
      "Requirement already satisfied: packaging>=20.0 in c:\\users\\thassa2m\\anaconda3\\lib\\site-packages (from matplotlib->pyagrum) (22.0)\n",
      "Requirement already satisfied: python-dateutil>=2.7 in c:\\users\\thassa2m\\anaconda3\\lib\\site-packages (from matplotlib->pyagrum) (2.8.2)\n",
      "Requirement already satisfied: cycler>=0.10 in c:\\users\\thassa2m\\anaconda3\\lib\\site-packages (from matplotlib->pyagrum) (0.11.0)\n",
      "Requirement already satisfied: kiwisolver>=1.0.1 in c:\\users\\thassa2m\\anaconda3\\lib\\site-packages (from matplotlib->pyagrum) (1.4.4)\n",
      "Requirement already satisfied: pillow>=6.2.0 in c:\\users\\thassa2m\\anaconda3\\lib\\site-packages (from matplotlib->pyagrum) (9.4.0)\n",
      "Requirement already satisfied: fonttools>=4.22.0 in c:\\users\\thassa2m\\anaconda3\\lib\\site-packages (from matplotlib->pyagrum) (4.25.0)\n",
      "Requirement already satisfied: contourpy>=1.0.1 in c:\\users\\thassa2m\\anaconda3\\lib\\site-packages (from matplotlib->pyagrum) (1.0.5)\n",
      "Requirement already satisfied: pyparsing>=2.3.1 in c:\\users\\thassa2m\\anaconda3\\lib\\site-packages (from matplotlib->pyagrum) (3.0.9)\n",
      "Requirement already satisfied: six>=1.5 in c:\\users\\thassa2m\\anaconda3\\lib\\site-packages (from python-dateutil>=2.7->matplotlib->pyagrum) (1.16.0)\n"
     ]
    }
   ],
   "source": [
    "!pip install pyagrum\n"
   ]
  },
  {
   "cell_type": "markdown",
   "metadata": {
    "id": "FSJwPdLOvqQl"
   },
   "source": [
    "## Bayesian network for dialogue management:\n",
    "\n",
    "The variables in the network are:\n",
    "\n",
    "* **User intent**: It can take on values \"information request,\" \"task completion,\" or \"opinion expression.\"\n",
    "\n",
    "* **User preference**: It can take on values \"direct answer,\" \n",
    "\"clarification question,\" or \"confirmation request.\"\n",
    "\n",
    "* **Dialogue context**:  It can take on values \"topic new,\" \"previous topic,\" \n",
    "\n",
    "* **Robot understanding**: It can take on values \"question,\" \"statement,\" or \"request.\"\n",
    "\n",
    "* **Robot response**: This variable represents the possible responses that the robot can make to the user's utterance, \n",
    "such as providing information, asking for clarification, or requesting confirmation. It can take on values \n",
    "\"provide information,\" \"ask for clarification,\" or \"request confirmation.\"\n"
   ]
  },
  {
   "cell_type": "code",
   "execution_count": 3,
   "metadata": {
    "colab": {
     "base_uri": "https://localhost:8080/",
     "height": 272
    },
    "id": "JxycxlGDFYru",
    "outputId": "8aa0db08-1403-46b7-e3a0-9cc7d871623d"
   },
   "outputs": [
    {
     "ename": "FileNotFoundError",
     "evalue": "[WinError 2] \"dot\" not found in path.",
     "output_type": "error",
     "traceback": [
      "\u001b[1;31m---------------------------------------------------------------------------\u001b[0m",
      "\u001b[1;31mFileNotFoundError\u001b[0m                         Traceback (most recent call last)",
      "File \u001b[1;32m~\\anaconda3\\lib\\site-packages\\pydot.py:1923\u001b[0m, in \u001b[0;36mDot.create\u001b[1;34m(self, prog, format, encoding)\u001b[0m\n\u001b[0;32m   1922\u001b[0m \u001b[38;5;28;01mtry\u001b[39;00m:\n\u001b[1;32m-> 1923\u001b[0m     stdout_data, stderr_data, process \u001b[38;5;241m=\u001b[39m \u001b[43mcall_graphviz\u001b[49m\u001b[43m(\u001b[49m\n\u001b[0;32m   1924\u001b[0m \u001b[43m        \u001b[49m\u001b[43mprogram\u001b[49m\u001b[38;5;241;43m=\u001b[39;49m\u001b[43mprog\u001b[49m\u001b[43m,\u001b[49m\n\u001b[0;32m   1925\u001b[0m \u001b[43m        \u001b[49m\u001b[43marguments\u001b[49m\u001b[38;5;241;43m=\u001b[39;49m\u001b[43marguments\u001b[49m\u001b[43m,\u001b[49m\n\u001b[0;32m   1926\u001b[0m \u001b[43m        \u001b[49m\u001b[43mworking_dir\u001b[49m\u001b[38;5;241;43m=\u001b[39;49m\u001b[43mtmp_dir\u001b[49m\u001b[43m,\u001b[49m\n\u001b[0;32m   1927\u001b[0m \u001b[43m    \u001b[49m\u001b[43m)\u001b[49m\n\u001b[0;32m   1928\u001b[0m \u001b[38;5;28;01mexcept\u001b[39;00m \u001b[38;5;167;01mOSError\u001b[39;00m \u001b[38;5;28;01mas\u001b[39;00m e:\n",
      "File \u001b[1;32m~\\anaconda3\\lib\\site-packages\\pydot.py:132\u001b[0m, in \u001b[0;36mcall_graphviz\u001b[1;34m(program, arguments, working_dir, **kwargs)\u001b[0m\n\u001b[0;32m    130\u001b[0m program_with_args \u001b[38;5;241m=\u001b[39m [program, ] \u001b[38;5;241m+\u001b[39m arguments\n\u001b[1;32m--> 132\u001b[0m process \u001b[38;5;241m=\u001b[39m subprocess\u001b[38;5;241m.\u001b[39mPopen(\n\u001b[0;32m    133\u001b[0m     program_with_args,\n\u001b[0;32m    134\u001b[0m     env\u001b[38;5;241m=\u001b[39menv,\n\u001b[0;32m    135\u001b[0m     cwd\u001b[38;5;241m=\u001b[39mworking_dir,\n\u001b[0;32m    136\u001b[0m     shell\u001b[38;5;241m=\u001b[39m\u001b[38;5;28;01mFalse\u001b[39;00m,\n\u001b[0;32m    137\u001b[0m     stderr\u001b[38;5;241m=\u001b[39msubprocess\u001b[38;5;241m.\u001b[39mPIPE,\n\u001b[0;32m    138\u001b[0m     stdout\u001b[38;5;241m=\u001b[39msubprocess\u001b[38;5;241m.\u001b[39mPIPE,\n\u001b[0;32m    139\u001b[0m     \u001b[38;5;241m*\u001b[39m\u001b[38;5;241m*\u001b[39mkwargs\n\u001b[0;32m    140\u001b[0m )\n\u001b[0;32m    141\u001b[0m stdout_data, stderr_data \u001b[38;5;241m=\u001b[39m process\u001b[38;5;241m.\u001b[39mcommunicate()\n",
      "File \u001b[1;32m~\\anaconda3\\lib\\subprocess.py:971\u001b[0m, in \u001b[0;36mPopen.__init__\u001b[1;34m(self, args, bufsize, executable, stdin, stdout, stderr, preexec_fn, close_fds, shell, cwd, env, universal_newlines, startupinfo, creationflags, restore_signals, start_new_session, pass_fds, user, group, extra_groups, encoding, errors, text, umask, pipesize)\u001b[0m\n\u001b[0;32m    968\u001b[0m             \u001b[38;5;28mself\u001b[39m\u001b[38;5;241m.\u001b[39mstderr \u001b[38;5;241m=\u001b[39m io\u001b[38;5;241m.\u001b[39mTextIOWrapper(\u001b[38;5;28mself\u001b[39m\u001b[38;5;241m.\u001b[39mstderr,\n\u001b[0;32m    969\u001b[0m                     encoding\u001b[38;5;241m=\u001b[39mencoding, errors\u001b[38;5;241m=\u001b[39merrors)\n\u001b[1;32m--> 971\u001b[0m     \u001b[38;5;28;43mself\u001b[39;49m\u001b[38;5;241;43m.\u001b[39;49m\u001b[43m_execute_child\u001b[49m\u001b[43m(\u001b[49m\u001b[43margs\u001b[49m\u001b[43m,\u001b[49m\u001b[43m \u001b[49m\u001b[43mexecutable\u001b[49m\u001b[43m,\u001b[49m\u001b[43m \u001b[49m\u001b[43mpreexec_fn\u001b[49m\u001b[43m,\u001b[49m\u001b[43m \u001b[49m\u001b[43mclose_fds\u001b[49m\u001b[43m,\u001b[49m\n\u001b[0;32m    972\u001b[0m \u001b[43m                        \u001b[49m\u001b[43mpass_fds\u001b[49m\u001b[43m,\u001b[49m\u001b[43m \u001b[49m\u001b[43mcwd\u001b[49m\u001b[43m,\u001b[49m\u001b[43m \u001b[49m\u001b[43menv\u001b[49m\u001b[43m,\u001b[49m\n\u001b[0;32m    973\u001b[0m \u001b[43m                        \u001b[49m\u001b[43mstartupinfo\u001b[49m\u001b[43m,\u001b[49m\u001b[43m \u001b[49m\u001b[43mcreationflags\u001b[49m\u001b[43m,\u001b[49m\u001b[43m \u001b[49m\u001b[43mshell\u001b[49m\u001b[43m,\u001b[49m\n\u001b[0;32m    974\u001b[0m \u001b[43m                        \u001b[49m\u001b[43mp2cread\u001b[49m\u001b[43m,\u001b[49m\u001b[43m \u001b[49m\u001b[43mp2cwrite\u001b[49m\u001b[43m,\u001b[49m\n\u001b[0;32m    975\u001b[0m \u001b[43m                        \u001b[49m\u001b[43mc2pread\u001b[49m\u001b[43m,\u001b[49m\u001b[43m \u001b[49m\u001b[43mc2pwrite\u001b[49m\u001b[43m,\u001b[49m\n\u001b[0;32m    976\u001b[0m \u001b[43m                        \u001b[49m\u001b[43merrread\u001b[49m\u001b[43m,\u001b[49m\u001b[43m \u001b[49m\u001b[43merrwrite\u001b[49m\u001b[43m,\u001b[49m\n\u001b[0;32m    977\u001b[0m \u001b[43m                        \u001b[49m\u001b[43mrestore_signals\u001b[49m\u001b[43m,\u001b[49m\n\u001b[0;32m    978\u001b[0m \u001b[43m                        \u001b[49m\u001b[43mgid\u001b[49m\u001b[43m,\u001b[49m\u001b[43m \u001b[49m\u001b[43mgids\u001b[49m\u001b[43m,\u001b[49m\u001b[43m \u001b[49m\u001b[43muid\u001b[49m\u001b[43m,\u001b[49m\u001b[43m \u001b[49m\u001b[43mumask\u001b[49m\u001b[43m,\u001b[49m\n\u001b[0;32m    979\u001b[0m \u001b[43m                        \u001b[49m\u001b[43mstart_new_session\u001b[49m\u001b[43m)\u001b[49m\n\u001b[0;32m    980\u001b[0m \u001b[38;5;28;01mexcept\u001b[39;00m:\n\u001b[0;32m    981\u001b[0m     \u001b[38;5;66;03m# Cleanup if the child failed starting.\u001b[39;00m\n",
      "File \u001b[1;32m~\\anaconda3\\lib\\subprocess.py:1440\u001b[0m, in \u001b[0;36mPopen._execute_child\u001b[1;34m(self, args, executable, preexec_fn, close_fds, pass_fds, cwd, env, startupinfo, creationflags, shell, p2cread, p2cwrite, c2pread, c2pwrite, errread, errwrite, unused_restore_signals, unused_gid, unused_gids, unused_uid, unused_umask, unused_start_new_session)\u001b[0m\n\u001b[0;32m   1439\u001b[0m \u001b[38;5;28;01mtry\u001b[39;00m:\n\u001b[1;32m-> 1440\u001b[0m     hp, ht, pid, tid \u001b[38;5;241m=\u001b[39m \u001b[43m_winapi\u001b[49m\u001b[38;5;241;43m.\u001b[39;49m\u001b[43mCreateProcess\u001b[49m\u001b[43m(\u001b[49m\u001b[43mexecutable\u001b[49m\u001b[43m,\u001b[49m\u001b[43m \u001b[49m\u001b[43margs\u001b[49m\u001b[43m,\u001b[49m\n\u001b[0;32m   1441\u001b[0m \u001b[43m                             \u001b[49m\u001b[38;5;66;43;03m# no special security\u001b[39;49;00m\n\u001b[0;32m   1442\u001b[0m \u001b[43m                             \u001b[49m\u001b[38;5;28;43;01mNone\u001b[39;49;00m\u001b[43m,\u001b[49m\u001b[43m \u001b[49m\u001b[38;5;28;43;01mNone\u001b[39;49;00m\u001b[43m,\u001b[49m\n\u001b[0;32m   1443\u001b[0m \u001b[43m                             \u001b[49m\u001b[38;5;28;43mint\u001b[39;49m\u001b[43m(\u001b[49m\u001b[38;5;129;43;01mnot\u001b[39;49;00m\u001b[43m \u001b[49m\u001b[43mclose_fds\u001b[49m\u001b[43m)\u001b[49m\u001b[43m,\u001b[49m\n\u001b[0;32m   1444\u001b[0m \u001b[43m                             \u001b[49m\u001b[43mcreationflags\u001b[49m\u001b[43m,\u001b[49m\n\u001b[0;32m   1445\u001b[0m \u001b[43m                             \u001b[49m\u001b[43menv\u001b[49m\u001b[43m,\u001b[49m\n\u001b[0;32m   1446\u001b[0m \u001b[43m                             \u001b[49m\u001b[43mcwd\u001b[49m\u001b[43m,\u001b[49m\n\u001b[0;32m   1447\u001b[0m \u001b[43m                             \u001b[49m\u001b[43mstartupinfo\u001b[49m\u001b[43m)\u001b[49m\n\u001b[0;32m   1448\u001b[0m \u001b[38;5;28;01mfinally\u001b[39;00m:\n\u001b[0;32m   1449\u001b[0m     \u001b[38;5;66;03m# Child is launched. Close the parent's copy of those pipe\u001b[39;00m\n\u001b[0;32m   1450\u001b[0m     \u001b[38;5;66;03m# handles that only the child should have open.  You need\u001b[39;00m\n\u001b[1;32m   (...)\u001b[0m\n\u001b[0;32m   1453\u001b[0m     \u001b[38;5;66;03m# pipe will not close when the child process exits and the\u001b[39;00m\n\u001b[0;32m   1454\u001b[0m     \u001b[38;5;66;03m# ReadFile will hang.\u001b[39;00m\n",
      "\u001b[1;31mFileNotFoundError\u001b[0m: [WinError 2] Das System kann die angegebene Datei nicht finden",
      "\nDuring handling of the above exception, another exception occurred:\n",
      "\u001b[1;31mFileNotFoundError\u001b[0m                         Traceback (most recent call last)",
      "Cell \u001b[1;32mIn[3], line 36\u001b[0m\n\u001b[0;32m     32\u001b[0m bn\u001b[38;5;241m.\u001b[39maddArc(user_goal,robot_understanding)\n\u001b[0;32m     33\u001b[0m bn\u001b[38;5;241m.\u001b[39maddArc(robot_understanding,robot_response)\n\u001b[1;32m---> 36\u001b[0m \u001b[43mgnb\u001b[49m\u001b[38;5;241;43m.\u001b[39;49m\u001b[43mshowBN\u001b[49m\u001b[43m(\u001b[49m\u001b[43mbn\u001b[49m\u001b[43m,\u001b[49m\u001b[43msize\u001b[49m\u001b[38;5;241;43m=\u001b[39;49m\u001b[38;5;124;43m'\u001b[39;49m\u001b[38;5;124;43m30\u001b[39;49m\u001b[38;5;124;43m'\u001b[39;49m\u001b[43m)\u001b[49m\n",
      "File \u001b[1;32m~\\anaconda3\\lib\\site-packages\\pyAgrum\\lib\\notebook.py:815\u001b[0m, in \u001b[0;36mshowBN\u001b[1;34m(bn, size, nodeColor, arcWidth, arcLabel, arcColor, cmap, cmapArc)\u001b[0m\n\u001b[0;32m    812\u001b[0m \u001b[38;5;28;01mif\u001b[39;00m cmapArc \u001b[38;5;129;01mis\u001b[39;00m \u001b[38;5;28;01mNone\u001b[39;00m:\n\u001b[0;32m    813\u001b[0m   cmapArc \u001b[38;5;241m=\u001b[39m cmap\n\u001b[1;32m--> 815\u001b[0m \u001b[38;5;28;01mreturn\u001b[39;00m \u001b[43mshowGraph\u001b[49m\u001b[43m(\u001b[49m\n\u001b[0;32m    816\u001b[0m \u001b[43m  \u001b[49m\u001b[43mBN2dot\u001b[49m\u001b[43m(\u001b[49m\u001b[43mbn\u001b[49m\u001b[43m,\u001b[49m\u001b[43m \u001b[49m\u001b[43msize\u001b[49m\u001b[38;5;241;43m=\u001b[39;49m\u001b[43msize\u001b[49m\u001b[43m,\u001b[49m\u001b[43m \u001b[49m\u001b[43mnodeColor\u001b[49m\u001b[38;5;241;43m=\u001b[39;49m\u001b[43mnodeColor\u001b[49m\u001b[43m,\u001b[49m\u001b[43m \u001b[49m\u001b[43marcWidth\u001b[49m\u001b[38;5;241;43m=\u001b[39;49m\u001b[43marcWidth\u001b[49m\u001b[43m,\u001b[49m\u001b[43m \u001b[49m\u001b[43marcLabel\u001b[49m\u001b[38;5;241;43m=\u001b[39;49m\u001b[43marcLabel\u001b[49m\u001b[43m,\u001b[49m\u001b[43m \u001b[49m\u001b[43marcColor\u001b[49m\u001b[38;5;241;43m=\u001b[39;49m\u001b[43marcColor\u001b[49m\u001b[43m,\u001b[49m\u001b[43m \u001b[49m\u001b[43mcmapNode\u001b[49m\u001b[38;5;241;43m=\u001b[39;49m\u001b[43mcmap\u001b[49m\u001b[43m,\u001b[49m\n\u001b[0;32m    817\u001b[0m \u001b[43m         \u001b[49m\u001b[43mcmapArc\u001b[49m\u001b[38;5;241;43m=\u001b[39;49m\u001b[43mcmapArc\u001b[49m\u001b[43m)\u001b[49m\u001b[43m,\u001b[49m\u001b[43m \u001b[49m\u001b[43msize\u001b[49m\u001b[43m)\u001b[49m\n",
      "File \u001b[1;32m~\\anaconda3\\lib\\site-packages\\pyAgrum\\lib\\notebook.py:295\u001b[0m, in \u001b[0;36mshowGraph\u001b[1;34m(gr, size)\u001b[0m\n\u001b[0;32m    292\u001b[0m \u001b[38;5;28;01mif\u001b[39;00m size \u001b[38;5;129;01mis\u001b[39;00m \u001b[38;5;28;01mNone\u001b[39;00m:\n\u001b[0;32m    293\u001b[0m   size \u001b[38;5;241m=\u001b[39m gum\u001b[38;5;241m.\u001b[39mconfig[\u001b[38;5;124m\"\u001b[39m\u001b[38;5;124mnotebook\u001b[39m\u001b[38;5;124m\"\u001b[39m, \u001b[38;5;124m\"\u001b[39m\u001b[38;5;124mdefault_graph_size\u001b[39m\u001b[38;5;124m\"\u001b[39m]\n\u001b[1;32m--> 295\u001b[0m \u001b[38;5;28;01mreturn\u001b[39;00m \u001b[43m_reprGraph\u001b[49m\u001b[43m(\u001b[49m\u001b[43mgr\u001b[49m\u001b[43m,\u001b[49m\u001b[43m \u001b[49m\u001b[43msize\u001b[49m\u001b[43m,\u001b[49m\u001b[43m \u001b[49m\u001b[43masString\u001b[49m\u001b[38;5;241;43m=\u001b[39;49m\u001b[38;5;28;43;01mFalse\u001b[39;49;00m\u001b[43m)\u001b[49m\n",
      "File \u001b[1;32m~\\anaconda3\\lib\\site-packages\\pyAgrum\\lib\\notebook.py:268\u001b[0m, in \u001b[0;36m_reprGraph\u001b[1;34m(gr, size, asString, format)\u001b[0m\n\u001b[0;32m    264\u001b[0m   \u001b[38;5;28mformat\u001b[39m \u001b[38;5;241m=\u001b[39m gum\u001b[38;5;241m.\u001b[39mconfig[\u001b[38;5;124m\"\u001b[39m\u001b[38;5;124mnotebook\u001b[39m\u001b[38;5;124m\"\u001b[39m, \u001b[38;5;124m\"\u001b[39m\u001b[38;5;124mgraph_format\u001b[39m\u001b[38;5;124m\"\u001b[39m]\n\u001b[0;32m    266\u001b[0m \u001b[38;5;28;01mif\u001b[39;00m \u001b[38;5;28mformat\u001b[39m \u001b[38;5;241m==\u001b[39m \u001b[38;5;124m\"\u001b[39m\u001b[38;5;124msvg\u001b[39m\u001b[38;5;124m\"\u001b[39m:\n\u001b[0;32m    267\u001b[0m   gsvg \u001b[38;5;241m=\u001b[39m IPython\u001b[38;5;241m.\u001b[39mdisplay\u001b[38;5;241m.\u001b[39mSVG(prepareLinksForSVG(\n\u001b[1;32m--> 268\u001b[0m     \u001b[43mgr\u001b[49m\u001b[38;5;241;43m.\u001b[39;49m\u001b[43mcreate_svg\u001b[49m\u001b[43m(\u001b[49m\u001b[43mencoding\u001b[49m\u001b[38;5;241;43m=\u001b[39;49m\u001b[38;5;124;43m\"\u001b[39;49m\u001b[38;5;124;43mutf-8\u001b[39;49m\u001b[38;5;124;43m\"\u001b[39;49m\u001b[43m)\u001b[49m\u001b[38;5;241m.\u001b[39mdecode(\u001b[38;5;124m'\u001b[39m\u001b[38;5;124mutf-8\u001b[39m\u001b[38;5;124m'\u001b[39m)))\n\u001b[0;32m    269\u001b[0m   \u001b[38;5;28;01mif\u001b[39;00m asString:\n\u001b[0;32m    270\u001b[0m     \u001b[38;5;28;01mreturn\u001b[39;00m gsvg\u001b[38;5;241m.\u001b[39mdata\n",
      "File \u001b[1;32m~\\anaconda3\\lib\\site-packages\\pydot.py:1733\u001b[0m, in \u001b[0;36mDot.__init__.<locals>.new_method\u001b[1;34m(f, prog, encoding)\u001b[0m\n\u001b[0;32m   1729\u001b[0m \u001b[38;5;28;01mdef\u001b[39;00m \u001b[38;5;21mnew_method\u001b[39m(\n\u001b[0;32m   1730\u001b[0m         f\u001b[38;5;241m=\u001b[39mfrmt, prog\u001b[38;5;241m=\u001b[39m\u001b[38;5;28mself\u001b[39m\u001b[38;5;241m.\u001b[39mprog,\n\u001b[0;32m   1731\u001b[0m         encoding\u001b[38;5;241m=\u001b[39m\u001b[38;5;28;01mNone\u001b[39;00m):\n\u001b[0;32m   1732\u001b[0m     \u001b[38;5;124;03m\"\"\"Refer to docstring of method `create`.\"\"\"\u001b[39;00m\n\u001b[1;32m-> 1733\u001b[0m     \u001b[38;5;28;01mreturn\u001b[39;00m \u001b[38;5;28;43mself\u001b[39;49m\u001b[38;5;241;43m.\u001b[39;49m\u001b[43mcreate\u001b[49m\u001b[43m(\u001b[49m\n\u001b[0;32m   1734\u001b[0m \u001b[43m        \u001b[49m\u001b[38;5;28;43mformat\u001b[39;49m\u001b[38;5;241;43m=\u001b[39;49m\u001b[43mf\u001b[49m\u001b[43m,\u001b[49m\u001b[43m \u001b[49m\u001b[43mprog\u001b[49m\u001b[38;5;241;43m=\u001b[39;49m\u001b[43mprog\u001b[49m\u001b[43m,\u001b[49m\u001b[43m \u001b[49m\u001b[43mencoding\u001b[49m\u001b[38;5;241;43m=\u001b[39;49m\u001b[43mencoding\u001b[49m\u001b[43m)\u001b[49m\n",
      "File \u001b[1;32m~\\anaconda3\\lib\\site-packages\\pydot.py:1933\u001b[0m, in \u001b[0;36mDot.create\u001b[1;34m(self, prog, format, encoding)\u001b[0m\n\u001b[0;32m   1930\u001b[0m     args \u001b[38;5;241m=\u001b[39m \u001b[38;5;28mlist\u001b[39m(e\u001b[38;5;241m.\u001b[39margs)\n\u001b[0;32m   1931\u001b[0m     args[\u001b[38;5;241m1\u001b[39m] \u001b[38;5;241m=\u001b[39m \u001b[38;5;124m'\u001b[39m\u001b[38;5;124m\"\u001b[39m\u001b[38;5;132;01m{prog}\u001b[39;00m\u001b[38;5;124m\"\u001b[39m\u001b[38;5;124m not found in path.\u001b[39m\u001b[38;5;124m'\u001b[39m\u001b[38;5;241m.\u001b[39mformat(\n\u001b[0;32m   1932\u001b[0m         prog\u001b[38;5;241m=\u001b[39mprog)\n\u001b[1;32m-> 1933\u001b[0m     \u001b[38;5;28;01mraise\u001b[39;00m \u001b[38;5;167;01mOSError\u001b[39;00m(\u001b[38;5;241m*\u001b[39margs)\n\u001b[0;32m   1934\u001b[0m \u001b[38;5;28;01melse\u001b[39;00m:\n\u001b[0;32m   1935\u001b[0m     \u001b[38;5;28;01mraise\u001b[39;00m\n",
      "\u001b[1;31mFileNotFoundError\u001b[0m: [WinError 2] \"dot\" not found in path."
     ]
    }
   ],
   "source": [
    "import pyAgrum as gum\n",
    "import pyAgrum.lib.notebook as gnb\n",
    "\n",
    "\n",
    "# Create a Bayesian network object\n",
    "bn = gum.BayesNet('Dialogue Management')\n",
    "\n",
    "# Add the nodes to the network\n",
    "user_goal = bn.add(gum.LabelizedVariable('user_goal', 'User Goal', ['info', 'opinion', 'task']))\n",
    "user_preference = bn.add(gum.LabelizedVariable('user_preference', 'User Preference', ['direct answer', 'clarification', 'confirmation']))\n",
    "dialogue_context = bn.add(gum.LabelizedVariable('dialogue_context', 'Dialogue Context', ['new topic', 'previous topic']))\n",
    "robot_understanding = bn.add(gum.LabelizedVariable('robot_understanding', 'Robot Understanding', ['question', 'statement', 'request']))\n",
    "robot_response = bn.add(gum.LabelizedVariable('robot_response', 'Robot Response', ['provide information', 'ask clarification', 'request confirmation']))\n",
    "\n",
    "# Define the conditional probability distributions for each node\n",
    "bn.cpt(user_goal).fillWith([0.3, 0.4, 0.3])\n",
    "bn.cpt(user_preference).fillWith([0.4, 0.3, 0.3])\n",
    "bn.cpt(dialogue_context).fillWith([0.4, 0.6])\n",
    "bn.cpt(robot_understanding)[{'user_preference': 'direct answer'}] = [0.4, 0.3, 0.3]\n",
    "bn.cpt(robot_understanding)[{'user_preference': 'clarification'}] = [0.2, 0.5, 0.3]\n",
    "bn.cpt(robot_understanding)[{'user_preference': 'confirmation'}] = [0.2, 0.3, 0.5]\n",
    "bn.cpt(robot_response)[{'robot_understanding': 'question'}] = [0.5, 0.2, 0.3]\n",
    "bn.cpt(robot_response)[{'robot_understanding': 'statement'}] = [0.3, 0.5, 0.2]\n",
    "bn.cpt(robot_response)[{'robot_understanding': 'request'}] = [0.2, 0.3, 0.5]\n",
    "bn.cpt(robot_understanding)[{'user_goal': 'info'}] = [0.4, 0.3, 0.3]\n",
    "bn.cpt(robot_understanding)[{'user_goal': 'opinion'}] = [0.2, 0.5, 0.3]\n",
    "bn.cpt(robot_understanding)[{'user_goal': 'task'}] = [0.2, 0.3, 0.5]\n",
    "bn.cpt(robot_understanding)[{'dialogue_context': 'new topic'}] = [0.4, 0.3, 0.3]\n",
    "bn.cpt(robot_understanding)[{'dialogue_context': 'previous topic'}] = [0.2, 0.5, 0.3]\n",
    "bn.addArc(user_preference,robot_understanding)\n",
    "bn.addArc(dialogue_context,robot_understanding)\n",
    "bn.addArc(user_goal,robot_understanding)\n",
    "bn.addArc(robot_understanding,robot_response)\n",
    "\n",
    "\n",
    "gnb.showBN(bn,size='30')\n"
   ]
  },
  {
   "cell_type": "code",
   "execution_count": null,
   "metadata": {
    "colab": {
     "base_uri": "https://localhost:8080/"
    },
    "id": "ylTomNkbu1Sn",
    "outputId": "b4f71f0e-5350-444f-f5c4-83c92bf5a320"
   },
   "outputs": [],
   "source": [
    "\n",
    "# Observe the values of the user_goal and dialogue_context nodes\n",
    "#bn.setEvidence({'user_goal': 0, 'dialogue_context': 0})\n",
    "\n",
    "# Infer the posterior probabilities of the robot_understanding and robot_response nodes\n",
    "ie = gum.LazyPropagation(bn)\n",
    "\n",
    "# Observe the values of the user_goal and dialogue_context nodes\n",
    "ie.setEvidence({'user_goal': 'info', 'dialogue_context': 'new topic'})\n",
    "\n",
    "ie.makeInference()\n",
    "\n",
    "robot_understanding_posterior = ie.posterior(robot_understanding)\n",
    "robot_response_posterior = ie.posterior(robot_response)\n",
    "\n",
    "# Select the response with the highest probability as the robot's utterance\n",
    "robot_response = robot_response_posterior.toarray().argmax()\n",
    "\n",
    "print('Robot response: {}'.format(robot_response))"
   ]
  },
  {
   "cell_type": "markdown",
   "metadata": {
    "id": "3UnOlp5Twf7U"
   },
   "source": [
    "--- \n",
    "End of exercise"
   ]
  },
  {
   "cell_type": "markdown",
   "metadata": {
    "id": "nnxtpjtbwcEo"
   },
   "source": [
    "---\n",
    "\n",
    "## Test code"
   ]
  },
  {
   "cell_type": "code",
   "execution_count": null,
   "metadata": {
    "id": "vsIFPP7IFceu"
   },
   "outputs": [],
   "source": [
    "import pyAgrum.lib.notebook as gnb\n",
    "\n",
    "# the next lines control the visualisation of proba as fraction\n",
    "gum.config['notebook','potential_with_fraction']=True\n",
    "gum.config['notebook', 'potential_fraction_with_latex']=True\n",
    "gum.config['notebook', 'potential_fraction_limit']=100\n"
   ]
  },
  {
   "cell_type": "code",
   "execution_count": null,
   "metadata": {
    "colab": {
     "base_uri": "https://localhost:8080/"
    },
    "id": "IMKtayW9HSvN",
    "outputId": "15cab57d-92d1-4180-c7b5-aac88696ddbb"
   },
   "outputs": [],
   "source": [
    "print(bn.cpt(\"robot_understanding\"))\n"
   ]
  },
  {
   "cell_type": "code",
   "execution_count": null,
   "metadata": {
    "colab": {
     "base_uri": "https://localhost:8080/",
     "height": 80
    },
    "id": "Pmh5K_GRHV_T",
    "outputId": "94625798-bce4-48b9-de1a-beaeb38821b1"
   },
   "outputs": [],
   "source": [
    "gnb.showBN(bn,size='30')\n"
   ]
  },
  {
   "cell_type": "code",
   "execution_count": null,
   "metadata": {
    "colab": {
     "base_uri": "https://localhost:8080/"
    },
    "id": "csgCFKWFKwLq",
    "outputId": "dbde9bcc-8826-4221-bf0d-8781c2e710ea"
   },
   "outputs": [],
   "source": [
    "print(bn.cpt(\"robot_understanding\"))\n"
   ]
  },
  {
   "cell_type": "code",
   "execution_count": null,
   "metadata": {
    "colab": {
     "base_uri": "https://localhost:8080/",
     "height": 272
    },
    "id": "-agl88jhK0GG",
    "outputId": "92b555ed-1de8-45ce-c54b-38f337c3a366"
   },
   "outputs": [],
   "source": [
    "bn=gum.fastBN(\"c->r->w<-s<-c\")\n",
    "bn"
   ]
  },
  {
   "cell_type": "code",
   "execution_count": null,
   "metadata": {
    "id": "AV6ZN8AoK78n"
   },
   "outputs": [],
   "source": []
  },
  {
   "cell_type": "code",
   "execution_count": null,
   "metadata": {
    "colab": {
     "base_uri": "https://localhost:8080/",
     "height": 375
    },
    "id": "lhWG6aJNDWIv",
    "outputId": "bc19e7f1-2f14-4cb1-b8d6-f8e68164bc1f"
   },
   "outputs": [
    {
     "ename": "ModuleNotFoundError",
     "errorDetails": {
      "actions": [
       {
        "action": "open_url",
        "actionText": "Open Examples",
        "url": "/notebooks/snippets/importing_libraries.ipynb"
       }
      ]
     },
     "evalue": "ignored",
     "output_type": "error",
     "traceback": [
      "\u001b[0;31m---------------------------------------------------------------------------\u001b[0m",
      "\u001b[0;31mModuleNotFoundError\u001b[0m                       Traceback (most recent call last)",
      "\u001b[0;32m<ipython-input-1-fcc64473ca8b>\u001b[0m in \u001b[0;36m<cell line: 1>\u001b[0;34m()\u001b[0m\n\u001b[0;32m----> 1\u001b[0;31m \u001b[0;32mimport\u001b[0m \u001b[0mpymc3\u001b[0m \u001b[0;32mas\u001b[0m \u001b[0mpm\u001b[0m\u001b[0;34m\u001b[0m\u001b[0;34m\u001b[0m\u001b[0m\n\u001b[0m\u001b[1;32m      2\u001b[0m \u001b[0;34m\u001b[0m\u001b[0m\n\u001b[1;32m      3\u001b[0m \u001b[0;31m# Define the Bayesian network structure\u001b[0m\u001b[0;34m\u001b[0m\u001b[0;34m\u001b[0m\u001b[0m\n\u001b[1;32m      4\u001b[0m \u001b[0;32mwith\u001b[0m \u001b[0mpm\u001b[0m\u001b[0;34m.\u001b[0m\u001b[0mModel\u001b[0m\u001b[0;34m(\u001b[0m\u001b[0;34m)\u001b[0m \u001b[0;32mas\u001b[0m \u001b[0mmodel\u001b[0m\u001b[0;34m:\u001b[0m\u001b[0;34m\u001b[0m\u001b[0;34m\u001b[0m\u001b[0m\n\u001b[1;32m      5\u001b[0m     \u001b[0muser_goal\u001b[0m \u001b[0;34m=\u001b[0m \u001b[0mpm\u001b[0m\u001b[0;34m.\u001b[0m\u001b[0mCategorical\u001b[0m\u001b[0;34m(\u001b[0m\u001b[0;34m'user_goal'\u001b[0m\u001b[0;34m,\u001b[0m \u001b[0mp\u001b[0m\u001b[0;34m=\u001b[0m\u001b[0;34m[\u001b[0m\u001b[0;36m0.3\u001b[0m\u001b[0;34m,\u001b[0m \u001b[0;36m0.4\u001b[0m\u001b[0;34m,\u001b[0m \u001b[0;36m0.3\u001b[0m\u001b[0;34m]\u001b[0m\u001b[0;34m,\u001b[0m \u001b[0mshape\u001b[0m\u001b[0;34m=\u001b[0m\u001b[0;36m1\u001b[0m\u001b[0;34m)\u001b[0m\u001b[0;34m\u001b[0m\u001b[0;34m\u001b[0m\u001b[0m\n",
      "\u001b[0;31mModuleNotFoundError\u001b[0m: No module named 'pymc3'",
      "",
      "\u001b[0;31m---------------------------------------------------------------------------\u001b[0;32m\nNOTE: If your import is failing due to a missing package, you can\nmanually install dependencies using either !pip or !apt.\n\nTo view examples of installing some common dependencies, click the\n\"Open Examples\" button below.\n\u001b[0;31m---------------------------------------------------------------------------\u001b[0m\n"
     ]
    }
   ],
   "source": [
    "import pymc3 as pm\n",
    "\n",
    "# Define the Bayesian network structure\n",
    "with pm.Model() as model:\n",
    "    user_goal = pm.Categorical('user_goal', p=[0.3, 0.4, 0.3], shape=1)\n",
    "    user_preference = pm.Categorical('user_preference', p=[0.4, 0.3, 0.3], shape=1)\n",
    "    dialogue_context = pm.Categorical('dialogue_context', p=[0.2, 0.6, 0.2], shape=1)\n",
    "    robot_understanding = pm.Categorical('robot_understanding', p=[0.5, 0.3, 0.2], shape=1)\n",
    "    robot_response = pm.Categorical('robot_response', p=[0.3, 0.5, 0.2], shape=1)\n",
    "\n",
    "    # Define the conditional probability distributions\n",
    "    p_user_goal_given_context = pm.math.switch(pm.math.eq(dialogue_context, 0), [0.6, 0.2, 0.2], [0.2, 0.3, 0.5])\n",
    "    p_user_preference_given_goal = pm.math.switch(pm.math.eq(user_goal, 0), [0.5, 0.2, 0.3], [0.2, 0.4, 0.4])\n",
    "    p_robot_understanding_given_user = pm.math.switch(pm.math.eq(user_preference, 0), [0.4, 0.3, 0.3], [0.2, 0.5, 0.3])\n",
    "    p_robot_response_given_understanding = pm.math.switch(pm.math.eq(robot_understanding, 0), [0.5, 0.2, 0.3], [0.3, 0.5, 0.2])\n",
    "\n",
    "    # Define the joint probability distribution\n",
    "    p_joint = pm.Deterministic('p_joint', p_user_goal_given_context[user_goal] * p_user_preference_given_goal[user_preference] * \\\n",
    "                                                pm.math.switch(pm.math.eq(dialogue_context, 0), 1, p_robot_understanding_given_user[user_preference]) * \\\n",
    "                                                p_robot_response_given_understanding[robot_understanding])\n",
    "\n",
    "    # Observe the values of the user_goal and dialogue_context nodes\n",
    "    observed_values = {'user_goal': 0, 'dialogue_context': 0}\n",
    "\n",
    "    # Infer the posterior probabilities of the robot_understanding and robot_response nodes\n",
    "    inference = pm.inference.sampling.sample_posterior_predictive(model=model, samples=1000, vars=[robot_understanding, robot_response], \\\n",
    "                                                               observed=observed_values)\n",
    "\n",
    "    # Select the response with the highest probability as the robot's utterance\n",
    "    robot_response = pm.stats.mode(inference['robot_response'])[0]\n"
   ]
  }
 ],
 "metadata": {
  "colab": {
   "provenance": []
  },
  "kernelspec": {
   "display_name": "Python 3 (ipykernel)",
   "language": "python",
   "name": "python3"
  },
  "language_info": {
   "codemirror_mode": {
    "name": "ipython",
    "version": 3
   },
   "file_extension": ".py",
   "mimetype": "text/x-python",
   "name": "python",
   "nbconvert_exporter": "python",
   "pygments_lexer": "ipython3",
   "version": "3.10.9"
  }
 },
 "nbformat": 4,
 "nbformat_minor": 1
}
